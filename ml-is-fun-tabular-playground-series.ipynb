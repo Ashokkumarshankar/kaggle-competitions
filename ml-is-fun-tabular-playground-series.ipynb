{
 "cells": [
  {
   "cell_type": "code",
   "execution_count": 1,
   "id": "d9ac8775",
   "metadata": {
    "_cell_guid": "b1076dfc-b9ad-4769-8c92-a6c4dae69d19",
    "_uuid": "8f2839f25d086af736a60e9eeb907d3b93b6e0e5",
    "execution": {
     "iopub.execute_input": "2022-08-29T13:26:03.834581Z",
     "iopub.status.busy": "2022-08-29T13:26:03.833737Z",
     "iopub.status.idle": "2022-08-29T13:26:03.847338Z",
     "shell.execute_reply": "2022-08-29T13:26:03.846542Z"
    },
    "papermill": {
     "duration": 0.024135,
     "end_time": "2022-08-29T13:26:03.849882",
     "exception": false,
     "start_time": "2022-08-29T13:26:03.825747",
     "status": "completed"
    },
    "tags": []
   },
   "outputs": [
    {
     "name": "stdout",
     "output_type": "stream",
     "text": [
      "/kaggle/input/tabular-playground-series-aug-2022/sample_submission.csv\n",
      "/kaggle/input/tabular-playground-series-aug-2022/train.csv\n",
      "/kaggle/input/tabular-playground-series-aug-2022/test.csv\n"
     ]
    }
   ],
   "source": [
    "# This Python 3 environment comes with many helpful analytics libraries installed\n",
    "# It is defined by the kaggle/python Docker image: https://github.com/kaggle/docker-python\n",
    "# For example, here's several helpful packages to load\n",
    "\n",
    "import numpy as np # linear algebra\n",
    "import pandas as pd # data processing, CSV file I/O (e.g. pd.read_csv)\n",
    "\n",
    "# Input data files are available in the read-only \"../input/\" directory\n",
    "# For example, running this (by clicking run or pressing Shift+Enter) will list all files under the input directory\n",
    "\n",
    "import os\n",
    "for dirname, _, filenames in os.walk('/kaggle/input'):\n",
    "    for filename in filenames:\n",
    "        print(os.path.join(dirname, filename))\n",
    "\n",
    "# You can write up to 20GB to the current directory (/kaggle/working/) that gets preserved as output when you create a version using \"Save & Run All\" \n",
    "# You can also write temporary files to /kaggle/temp/, but they won't be saved outside of the current session"
   ]
  },
  {
   "cell_type": "code",
   "execution_count": 2,
   "id": "07d48386",
   "metadata": {
    "execution": {
     "iopub.execute_input": "2022-08-29T13:26:03.861651Z",
     "iopub.status.busy": "2022-08-29T13:26:03.860924Z",
     "iopub.status.idle": "2022-08-29T13:26:03.864998Z",
     "shell.execute_reply": "2022-08-29T13:26:03.864207Z"
    },
    "papermill": {
     "duration": 0.012135,
     "end_time": "2022-08-29T13:26:03.867071",
     "exception": false,
     "start_time": "2022-08-29T13:26:03.854936",
     "status": "completed"
    },
    "tags": []
   },
   "outputs": [],
   "source": [
    "train_file='/kaggle/input/tabular-playground-series-aug-2022/train.csv'\n",
    "test_file='/kaggle/input/tabular-playground-series-aug-2022/test.csv'\n"
   ]
  },
  {
   "cell_type": "code",
   "execution_count": 3,
   "id": "0b5feea3",
   "metadata": {
    "execution": {
     "iopub.execute_input": "2022-08-29T13:26:03.879034Z",
     "iopub.status.busy": "2022-08-29T13:26:03.878321Z",
     "iopub.status.idle": "2022-08-29T13:26:04.154269Z",
     "shell.execute_reply": "2022-08-29T13:26:04.153084Z"
    },
    "papermill": {
     "duration": 0.284948,
     "end_time": "2022-08-29T13:26:04.157067",
     "exception": false,
     "start_time": "2022-08-29T13:26:03.872119",
     "status": "completed"
    },
    "tags": []
   },
   "outputs": [],
   "source": [
    "train_df=pd.read_csv(train_file)\n",
    "test_df=pd.read_csv(test_file)"
   ]
  },
  {
   "cell_type": "code",
   "execution_count": 4,
   "id": "cb2f5b5c",
   "metadata": {
    "execution": {
     "iopub.execute_input": "2022-08-29T13:26:04.168453Z",
     "iopub.status.busy": "2022-08-29T13:26:04.168052Z",
     "iopub.status.idle": "2022-08-29T13:26:06.714064Z",
     "shell.execute_reply": "2022-08-29T13:26:06.712716Z"
    },
    "papermill": {
     "duration": 2.555222,
     "end_time": "2022-08-29T13:26:06.717241",
     "exception": false,
     "start_time": "2022-08-29T13:26:04.162019",
     "status": "completed"
    },
    "tags": []
   },
   "outputs": [
    {
     "data": {
      "text/html": [
       "<style type='text/css'>\n",
       ".datatable table.frame { margin-bottom: 0; }\n",
       ".datatable table.frame thead { border-bottom: none; }\n",
       ".datatable table.frame tr.coltypes td {  color: #FFFFFF;  line-height: 6px;  padding: 0 0.5em;}\n",
       ".datatable .bool    { background: #DDDD99; }\n",
       ".datatable .object  { background: #565656; }\n",
       ".datatable .int     { background: #5D9E5D; }\n",
       ".datatable .float   { background: #4040CC; }\n",
       ".datatable .str     { background: #CC4040; }\n",
       ".datatable .time    { background: #40CC40; }\n",
       ".datatable .row_index {  background: var(--jp-border-color3);  border-right: 1px solid var(--jp-border-color0);  color: var(--jp-ui-font-color3);  font-size: 9px;}\n",
       ".datatable .frame tbody td { text-align: left; }\n",
       ".datatable .frame tr.coltypes .row_index {  background: var(--jp-border-color0);}\n",
       ".datatable th:nth-child(2) { padding-left: 12px; }\n",
       ".datatable .hellipsis {  color: var(--jp-cell-editor-border-color);}\n",
       ".datatable .vellipsis {  background: var(--jp-layout-color0);  color: var(--jp-cell-editor-border-color);}\n",
       ".datatable .na {  color: var(--jp-cell-editor-border-color);  font-size: 80%;}\n",
       ".datatable .sp {  opacity: 0.25;}\n",
       ".datatable .footer { font-size: 9px; }\n",
       ".datatable .frame_dimensions {  background: var(--jp-border-color3);  border-top: 1px solid var(--jp-border-color0);  color: var(--jp-ui-font-color3);  display: inline-block;  opacity: 0.6;  padding: 1px 10px 1px 5px;}\n",
       "</style>\n"
      ],
      "text/plain": [
       "<IPython.core.display.HTML object>"
      ]
     },
     "metadata": {},
     "output_type": "display_data"
    }
   ],
   "source": [
    "from sklearn.ensemble import RandomForestRegressor\n",
    "from sklearn.linear_model import LinearRegression\n",
    "from sklearn.model_selection import train_test_split\n",
    "import lightgbm as lgb\n",
    "import xgboost as xgb\n",
    "from sklearn.metrics import mean_absolute_error,mean_squared_error,mean_squared_log_error\n",
    "from sklearn.preprocessing import LabelEncoder,OneHotEncoder\n",
    "\n",
    "from imblearn.over_sampling import SMOTE\n",
    "from sklearn.compose import ColumnTransformer\n",
    "from sklearn.pipeline import Pipeline\n",
    "from sklearn.impute import SimpleImputer\n",
    "from sklearn.preprocessing import StandardScaler,OrdinalEncoder\n",
    "from imblearn.pipeline import Pipeline as imbpipeline"
   ]
  },
  {
   "cell_type": "code",
   "execution_count": 5,
   "id": "b7d91350",
   "metadata": {
    "execution": {
     "iopub.execute_input": "2022-08-29T13:26:06.729737Z",
     "iopub.status.busy": "2022-08-29T13:26:06.729032Z",
     "iopub.status.idle": "2022-08-29T13:26:06.786755Z",
     "shell.execute_reply": "2022-08-29T13:26:06.785457Z"
    },
    "papermill": {
     "duration": 0.067404,
     "end_time": "2022-08-29T13:26:06.789881",
     "exception": false,
     "start_time": "2022-08-29T13:26:06.722477",
     "status": "completed"
    },
    "tags": []
   },
   "outputs": [],
   "source": [
    "X = train_df.copy()\n",
    "y = X.pop(\"failure\")\n",
    "\n",
    "X_train_full, X_valid_full, y_train, y_valid = train_test_split(X, y, train_size=0.8, test_size=0.2,\n",
    "                                                                random_state=0)\n",
    "\n",
    "categorical_cols = [cname for cname in X_train_full.columns if X_train_full[cname].dtype == \"object\"]\n",
    "\n",
    "numerical_cols = [cname for cname in X_train_full.columns if X_train_full[cname].dtype in ['int64', 'float64']]\n",
    "\n",
    "my_cols = categorical_cols + numerical_cols\n",
    "X_train = X_train_full[my_cols].copy()\n",
    "X_valid = X_valid_full[my_cols].copy()"
   ]
  },
  {
   "cell_type": "code",
   "execution_count": 6,
   "id": "7c05d224",
   "metadata": {
    "execution": {
     "iopub.execute_input": "2022-08-29T13:26:06.802743Z",
     "iopub.status.busy": "2022-08-29T13:26:06.802041Z",
     "iopub.status.idle": "2022-08-29T13:26:06.824591Z",
     "shell.execute_reply": "2022-08-29T13:26:06.823408Z"
    },
    "papermill": {
     "duration": 0.031917,
     "end_time": "2022-08-29T13:26:06.827185",
     "exception": false,
     "start_time": "2022-08-29T13:26:06.795268",
     "status": "completed"
    },
    "tags": []
   },
   "outputs": [],
   "source": [
    "X_test_1 = test_df.copy()\n",
    "# y = X.pop(\"failure\")\n",
    "\n",
    "# X_train_full, X_valid_full, y_train, y_valid = train_test_split(X, y, train_size=0.8, test_size=0.2,\n",
    "#                                                                 random_state=0)\n",
    "\n",
    "categorical_cols_test = [cname for cname in X_test_1.columns if X_test_1[cname].dtype == \"object\"]\n",
    "\n",
    "numerical_cols_test = [cname for cname in X_test_1.columns if X_test_1[cname].dtype in ['int64', 'float64']]\n",
    "\n",
    "my_cols_test = categorical_cols_test + numerical_cols_test\n",
    "X_train_test = X_test_1[my_cols_test].copy()\n"
   ]
  },
  {
   "cell_type": "code",
   "execution_count": 7,
   "id": "7ee5453f",
   "metadata": {
    "execution": {
     "iopub.execute_input": "2022-08-29T13:26:06.839603Z",
     "iopub.status.busy": "2022-08-29T13:26:06.839187Z",
     "iopub.status.idle": "2022-08-29T13:26:06.846557Z",
     "shell.execute_reply": "2022-08-29T13:26:06.845175Z"
    },
    "papermill": {
     "duration": 0.01664,
     "end_time": "2022-08-29T13:26:06.849150",
     "exception": false,
     "start_time": "2022-08-29T13:26:06.832510",
     "status": "completed"
    },
    "tags": []
   },
   "outputs": [],
   "source": [
    "numerical_transformer = Pipeline(steps=[\n",
    "    ('imputer1',SimpleImputer(strategy='median')),\n",
    "    ('scaler', StandardScaler(with_mean=False)),\n",
    "#     ('poly_features', PolynomialFeatures(degree=2, include_bias=False)),\n",
    "])\n",
    "\n",
    "# Preprocessing for categorical data\n",
    "categorical_transformer = Pipeline(steps=[\n",
    "    ('imputer2', SimpleImputer(strategy='most_frequent')),\n",
    "    ('onehot', OneHotEncoder(handle_unknown='ignore')),\n",
    "    ('scaler', StandardScaler(with_mean=False)),\n",
    "])\n",
    "\n",
    "# Bundle preprocessing for numerical and categorical data\n",
    "preprocessor = ColumnTransformer(\n",
    "    transformers=[\n",
    "        ('num', numerical_transformer, numerical_cols),\n",
    "        ('cat', categorical_transformer, categorical_cols)\n",
    "    ])"
   ]
  },
  {
   "cell_type": "code",
   "execution_count": 8,
   "id": "21275505",
   "metadata": {
    "execution": {
     "iopub.execute_input": "2022-08-29T13:26:06.861806Z",
     "iopub.status.busy": "2022-08-29T13:26:06.861027Z",
     "iopub.status.idle": "2022-08-29T13:26:07.026189Z",
     "shell.execute_reply": "2022-08-29T13:26:07.024979Z"
    },
    "papermill": {
     "duration": 0.17448,
     "end_time": "2022-08-29T13:26:07.028997",
     "exception": false,
     "start_time": "2022-08-29T13:26:06.854517",
     "status": "completed"
    },
    "tags": []
   },
   "outputs": [],
   "source": [
    "X_train_tr = preprocessor.fit_transform(X_train, y_train)\n",
    "X_valid_tr = preprocessor.transform(X_valid)"
   ]
  },
  {
   "cell_type": "code",
   "execution_count": 9,
   "id": "27569bf3",
   "metadata": {
    "execution": {
     "iopub.execute_input": "2022-08-29T13:26:07.041993Z",
     "iopub.status.busy": "2022-08-29T13:26:07.041269Z",
     "iopub.status.idle": "2022-08-29T13:26:07.097332Z",
     "shell.execute_reply": "2022-08-29T13:26:07.096153Z"
    },
    "papermill": {
     "duration": 0.065458,
     "end_time": "2022-08-29T13:26:07.100131",
     "exception": false,
     "start_time": "2022-08-29T13:26:07.034673",
     "status": "completed"
    },
    "tags": []
   },
   "outputs": [],
   "source": [
    "X_test_1=preprocessor.transform(X_train_test)"
   ]
  },
  {
   "cell_type": "code",
   "execution_count": 10,
   "id": "d4e79df3",
   "metadata": {
    "execution": {
     "iopub.execute_input": "2022-08-29T13:26:07.114413Z",
     "iopub.status.busy": "2022-08-29T13:26:07.114046Z",
     "iopub.status.idle": "2022-08-29T13:26:37.565642Z",
     "shell.execute_reply": "2022-08-29T13:26:37.564612Z"
    },
    "papermill": {
     "duration": 30.463228,
     "end_time": "2022-08-29T13:26:37.568518",
     "exception": false,
     "start_time": "2022-08-29T13:26:07.105290",
     "status": "completed"
    },
    "tags": []
   },
   "outputs": [],
   "source": [
    "rf_model=RandomForestRegressor(n_estimators=160,n_jobs=-1)\n",
    "model_rf=rf_model.fit(X_train_tr,y_train)"
   ]
  },
  {
   "cell_type": "code",
   "execution_count": 11,
   "id": "b6f1b15d",
   "metadata": {
    "execution": {
     "iopub.execute_input": "2022-08-29T13:26:37.580491Z",
     "iopub.status.busy": "2022-08-29T13:26:37.579857Z",
     "iopub.status.idle": "2022-08-29T13:26:37.687653Z",
     "shell.execute_reply": "2022-08-29T13:26:37.686782Z"
    },
    "papermill": {
     "duration": 0.116608,
     "end_time": "2022-08-29T13:26:37.690315",
     "exception": false,
     "start_time": "2022-08-29T13:26:37.573707",
     "status": "completed"
    },
    "tags": []
   },
   "outputs": [],
   "source": [
    "y_preds=model_rf.predict(X_valid_tr)"
   ]
  },
  {
   "cell_type": "code",
   "execution_count": 12,
   "id": "40041d96",
   "metadata": {
    "execution": {
     "iopub.execute_input": "2022-08-29T13:26:37.701992Z",
     "iopub.status.busy": "2022-08-29T13:26:37.701589Z",
     "iopub.status.idle": "2022-08-29T13:26:37.709214Z",
     "shell.execute_reply": "2022-08-29T13:26:37.708042Z"
    },
    "papermill": {
     "duration": 0.015889,
     "end_time": "2022-08-29T13:26:37.711301",
     "exception": false,
     "start_time": "2022-08-29T13:26:37.695412",
     "status": "completed"
    },
    "tags": []
   },
   "outputs": [
    {
     "data": {
      "text/plain": [
       "0.1673337307701355"
      ]
     },
     "execution_count": 12,
     "metadata": {},
     "output_type": "execute_result"
    }
   ],
   "source": [
    "mean_squared_error(y_preds,y_valid)"
   ]
  },
  {
   "cell_type": "code",
   "execution_count": 13,
   "id": "182c6987",
   "metadata": {
    "execution": {
     "iopub.execute_input": "2022-08-29T13:26:37.723753Z",
     "iopub.status.busy": "2022-08-29T13:26:37.723039Z",
     "iopub.status.idle": "2022-08-29T13:26:38.032819Z",
     "shell.execute_reply": "2022-08-29T13:26:38.031681Z"
    },
    "papermill": {
     "duration": 0.319327,
     "end_time": "2022-08-29T13:26:38.035882",
     "exception": false,
     "start_time": "2022-08-29T13:26:37.716555",
     "status": "completed"
    },
    "tags": []
   },
   "outputs": [],
   "source": [
    "y_preds_test=model_rf.predict(X_test_1)"
   ]
  },
  {
   "cell_type": "code",
   "execution_count": 14,
   "id": "f14f42de",
   "metadata": {
    "execution": {
     "iopub.execute_input": "2022-08-29T13:26:38.048426Z",
     "iopub.status.busy": "2022-08-29T13:26:38.047579Z",
     "iopub.status.idle": "2022-08-29T13:26:38.053997Z",
     "shell.execute_reply": "2022-08-29T13:26:38.053180Z"
    },
    "papermill": {
     "duration": 0.01507,
     "end_time": "2022-08-29T13:26:38.056205",
     "exception": false,
     "start_time": "2022-08-29T13:26:38.041135",
     "status": "completed"
    },
    "tags": []
   },
   "outputs": [],
   "source": [
    "test_df['failure']=y_preds_test"
   ]
  },
  {
   "cell_type": "code",
   "execution_count": 15,
   "id": "061e2690",
   "metadata": {
    "execution": {
     "iopub.execute_input": "2022-08-29T13:26:38.069035Z",
     "iopub.status.busy": "2022-08-29T13:26:38.067884Z",
     "iopub.status.idle": "2022-08-29T13:26:38.112719Z",
     "shell.execute_reply": "2022-08-29T13:26:38.111726Z"
    },
    "papermill": {
     "duration": 0.054107,
     "end_time": "2022-08-29T13:26:38.115522",
     "exception": false,
     "start_time": "2022-08-29T13:26:38.061415",
     "status": "completed"
    },
    "tags": []
   },
   "outputs": [],
   "source": [
    "test_df[['id','failure']].to_csv('submission.csv',index=False)"
   ]
  },
  {
   "cell_type": "code",
   "execution_count": 16,
   "id": "5876f8b9",
   "metadata": {
    "execution": {
     "iopub.execute_input": "2022-08-29T13:26:38.127607Z",
     "iopub.status.busy": "2022-08-29T13:26:38.127204Z",
     "iopub.status.idle": "2022-08-29T13:26:39.283409Z",
     "shell.execute_reply": "2022-08-29T13:26:39.282099Z"
    },
    "papermill": {
     "duration": 1.16533,
     "end_time": "2022-08-29T13:26:39.286173",
     "exception": false,
     "start_time": "2022-08-29T13:26:38.120843",
     "status": "completed"
    },
    "tags": []
   },
   "outputs": [
    {
     "name": "stdout",
     "output_type": "stream",
     "text": [
      "id,failure\r\n",
      "26570,0.25625\r\n",
      "26571,0.25\r\n",
      "26572,0.325\r\n",
      "26573,0.26875\r\n",
      "26574,0.3375\r\n",
      "26575,0.3375\r\n",
      "26576,0.175\r\n",
      "26577,0.25625\r\n",
      "26578,0.14375\r\n"
     ]
    }
   ],
   "source": [
    "!head submission.csv"
   ]
  },
  {
   "cell_type": "code",
   "execution_count": null,
   "id": "ec22fd43",
   "metadata": {
    "papermill": {
     "duration": 0.004887,
     "end_time": "2022-08-29T13:26:39.296326",
     "exception": false,
     "start_time": "2022-08-29T13:26:39.291439",
     "status": "completed"
    },
    "tags": []
   },
   "outputs": [],
   "source": []
  },
  {
   "cell_type": "code",
   "execution_count": null,
   "id": "b5aa2503",
   "metadata": {
    "papermill": {
     "duration": 0.004895,
     "end_time": "2022-08-29T13:26:39.306343",
     "exception": false,
     "start_time": "2022-08-29T13:26:39.301448",
     "status": "completed"
    },
    "tags": []
   },
   "outputs": [],
   "source": []
  }
 ],
 "metadata": {
  "kernelspec": {
   "display_name": "Python 3",
   "language": "python",
   "name": "python3"
  },
  "language_info": {
   "codemirror_mode": {
    "name": "ipython",
    "version": 3
   },
   "file_extension": ".py",
   "mimetype": "text/x-python",
   "name": "python",
   "nbconvert_exporter": "python",
   "pygments_lexer": "ipython3",
   "version": "3.7.12"
  },
  "papermill": {
   "default_parameters": {},
   "duration": 45.598724,
   "end_time": "2022-08-29T13:26:40.234935",
   "environment_variables": {},
   "exception": null,
   "input_path": "__notebook__.ipynb",
   "output_path": "__notebook__.ipynb",
   "parameters": {},
   "start_time": "2022-08-29T13:25:54.636211",
   "version": "2.3.4"
  }
 },
 "nbformat": 4,
 "nbformat_minor": 5
}
