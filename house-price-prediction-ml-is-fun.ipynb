{
 "cells": [
  {
   "cell_type": "code",
   "execution_count": 1,
   "id": "04ce45a3",
   "metadata": {
    "execution": {
     "iopub.execute_input": "2022-08-29T15:10:28.436158Z",
     "iopub.status.busy": "2022-08-29T15:10:28.435529Z",
     "iopub.status.idle": "2022-08-29T15:10:28.454114Z",
     "shell.execute_reply": "2022-08-29T15:10:28.452865Z"
    },
    "papermill": {
     "duration": 0.038085,
     "end_time": "2022-08-29T15:10:28.457143",
     "exception": false,
     "start_time": "2022-08-29T15:10:28.419058",
     "status": "completed"
    },
    "tags": []
   },
   "outputs": [
    {
     "name": "stdout",
     "output_type": "stream",
     "text": [
      "/kaggle/input/house-prices-advanced-regression-techniques/sample_submission.csv\n",
      "/kaggle/input/house-prices-advanced-regression-techniques/data_description.txt\n",
      "/kaggle/input/house-prices-advanced-regression-techniques/train.csv\n",
      "/kaggle/input/house-prices-advanced-regression-techniques/test.csv\n"
     ]
    }
   ],
   "source": [
    "# This Python 3 environment comes with many helpful analytics libraries installed\n",
    "# It is defined by the kaggle/python Docker image: https://github.com/kaggle/docker-python\n",
    "# For example, here's several helpful packages to load\n",
    "\n",
    "import numpy as np # linear algebra\n",
    "import pandas as pd # data processing, CSV file I/O (e.g. pd.read_csv)\n",
    "\n",
    "# Input data files are available in the read-only \"../input/\" directory\n",
    "# For example, running this (by clicking run or pressing Shift+Enter) will list all files under the input directory\n",
    "\n",
    "import os\n",
    "for dirname, _, filenames in os.walk('/kaggle/input'):\n",
    "    for filename in filenames:\n",
    "        print(os.path.join(dirname, filename))\n",
    "\n",
    "# You can write up to 20GB to the current directory (/kaggle/working/) that gets preserved as output when you create a version using \"Save & Run All\" \n",
    "# You can also write temporary files to /kaggle/temp/, but they won't be saved outside of the current session"
   ]
  },
  {
   "cell_type": "code",
   "execution_count": 2,
   "id": "017f2201",
   "metadata": {
    "execution": {
     "iopub.execute_input": "2022-08-29T15:10:28.476902Z",
     "iopub.status.busy": "2022-08-29T15:10:28.476287Z",
     "iopub.status.idle": "2022-08-29T15:10:28.567283Z",
     "shell.execute_reply": "2022-08-29T15:10:28.565996Z"
    },
    "papermill": {
     "duration": 0.10438,
     "end_time": "2022-08-29T15:10:28.570136",
     "exception": false,
     "start_time": "2022-08-29T15:10:28.465756",
     "status": "completed"
    },
    "tags": []
   },
   "outputs": [],
   "source": [
    "train_df=pd.read_csv('/kaggle/input/house-prices-advanced-regression-techniques/train.csv')\n",
    "test_df=pd.read_csv('/kaggle/input/house-prices-advanced-regression-techniques/test.csv')\n",
    "\n",
    "import json\n",
    "\n",
    "\n",
    "description_data=open('/kaggle/input/house-prices-advanced-regression-techniques/data_description.txt','r')"
   ]
  },
  {
   "cell_type": "code",
   "execution_count": 3,
   "id": "37785877",
   "metadata": {
    "execution": {
     "iopub.execute_input": "2022-08-29T15:10:28.590247Z",
     "iopub.status.busy": "2022-08-29T15:10:28.588344Z",
     "iopub.status.idle": "2022-08-29T15:10:28.598192Z",
     "shell.execute_reply": "2022-08-29T15:10:28.597146Z"
    },
    "papermill": {
     "duration": 0.022275,
     "end_time": "2022-08-29T15:10:28.600908",
     "exception": false,
     "start_time": "2022-08-29T15:10:28.578633",
     "status": "completed"
    },
    "tags": []
   },
   "outputs": [],
   "source": [
    "description_data_full=description_data.readlines()"
   ]
  },
  {
   "cell_type": "code",
   "execution_count": 4,
   "id": "f21a84b6",
   "metadata": {
    "execution": {
     "iopub.execute_input": "2022-08-29T15:10:28.619744Z",
     "iopub.status.busy": "2022-08-29T15:10:28.618989Z",
     "iopub.status.idle": "2022-08-29T15:10:30.398427Z",
     "shell.execute_reply": "2022-08-29T15:10:30.397168Z"
    },
    "papermill": {
     "duration": 1.792567,
     "end_time": "2022-08-29T15:10:30.401808",
     "exception": false,
     "start_time": "2022-08-29T15:10:28.609241",
     "status": "completed"
    },
    "tags": []
   },
   "outputs": [],
   "source": [
    "import pandas as pd \n",
    "import numpy as np\n",
    "import matplotlib.pyplot as plt\n",
    "import seaborn as sns\n",
    "\n",
    "from sklearn.model_selection import train_test_split\n",
    "from sklearn.preprocessing import LabelEncoder\n",
    "from sklearn.preprocessing import StandardScaler\n",
    "from sklearn import metrics\n",
    "from sklearn.metrics import mean_absolute_error,mean_squared_error, r2_score, mean_squared_log_error\n",
    "\n",
    "from sklearn.tree import DecisionTreeRegressor\n",
    "from sklearn.ensemble import RandomForestRegressor\n",
    "from sklearn.linear_model import LinearRegression\n",
    "from sklearn import neighbors\n",
    "from xgboost import XGBRegressor\n",
    "\n",
    "\n",
    "%matplotlib inline\n"
   ]
  },
  {
   "cell_type": "code",
   "execution_count": 5,
   "id": "a87e0c92",
   "metadata": {
    "execution": {
     "iopub.execute_input": "2022-08-29T15:10:30.421854Z",
     "iopub.status.busy": "2022-08-29T15:10:30.420760Z",
     "iopub.status.idle": "2022-08-29T15:10:30.462595Z",
     "shell.execute_reply": "2022-08-29T15:10:30.459452Z"
    },
    "papermill": {
     "duration": 0.054766,
     "end_time": "2022-08-29T15:10:30.465369",
     "exception": false,
     "start_time": "2022-08-29T15:10:30.410603",
     "status": "completed"
    },
    "tags": []
   },
   "outputs": [
    {
     "name": "stdout",
     "output_type": "stream",
     "text": [
      "<class 'pandas.core.frame.DataFrame'>\n",
      "RangeIndex: 1460 entries, 0 to 1459\n",
      "Data columns (total 81 columns):\n",
      " #   Column         Non-Null Count  Dtype  \n",
      "---  ------         --------------  -----  \n",
      " 0   Id             1460 non-null   int64  \n",
      " 1   MSSubClass     1460 non-null   int64  \n",
      " 2   MSZoning       1460 non-null   object \n",
      " 3   LotFrontage    1201 non-null   float64\n",
      " 4   LotArea        1460 non-null   int64  \n",
      " 5   Street         1460 non-null   object \n",
      " 6   Alley          91 non-null     object \n",
      " 7   LotShape       1460 non-null   object \n",
      " 8   LandContour    1460 non-null   object \n",
      " 9   Utilities      1460 non-null   object \n",
      " 10  LotConfig      1460 non-null   object \n",
      " 11  LandSlope      1460 non-null   object \n",
      " 12  Neighborhood   1460 non-null   object \n",
      " 13  Condition1     1460 non-null   object \n",
      " 14  Condition2     1460 non-null   object \n",
      " 15  BldgType       1460 non-null   object \n",
      " 16  HouseStyle     1460 non-null   object \n",
      " 17  OverallQual    1460 non-null   int64  \n",
      " 18  OverallCond    1460 non-null   int64  \n",
      " 19  YearBuilt      1460 non-null   int64  \n",
      " 20  YearRemodAdd   1460 non-null   int64  \n",
      " 21  RoofStyle      1460 non-null   object \n",
      " 22  RoofMatl       1460 non-null   object \n",
      " 23  Exterior1st    1460 non-null   object \n",
      " 24  Exterior2nd    1460 non-null   object \n",
      " 25  MasVnrType     1452 non-null   object \n",
      " 26  MasVnrArea     1452 non-null   float64\n",
      " 27  ExterQual      1460 non-null   object \n",
      " 28  ExterCond      1460 non-null   object \n",
      " 29  Foundation     1460 non-null   object \n",
      " 30  BsmtQual       1423 non-null   object \n",
      " 31  BsmtCond       1423 non-null   object \n",
      " 32  BsmtExposure   1422 non-null   object \n",
      " 33  BsmtFinType1   1423 non-null   object \n",
      " 34  BsmtFinSF1     1460 non-null   int64  \n",
      " 35  BsmtFinType2   1422 non-null   object \n",
      " 36  BsmtFinSF2     1460 non-null   int64  \n",
      " 37  BsmtUnfSF      1460 non-null   int64  \n",
      " 38  TotalBsmtSF    1460 non-null   int64  \n",
      " 39  Heating        1460 non-null   object \n",
      " 40  HeatingQC      1460 non-null   object \n",
      " 41  CentralAir     1460 non-null   object \n",
      " 42  Electrical     1459 non-null   object \n",
      " 43  1stFlrSF       1460 non-null   int64  \n",
      " 44  2ndFlrSF       1460 non-null   int64  \n",
      " 45  LowQualFinSF   1460 non-null   int64  \n",
      " 46  GrLivArea      1460 non-null   int64  \n",
      " 47  BsmtFullBath   1460 non-null   int64  \n",
      " 48  BsmtHalfBath   1460 non-null   int64  \n",
      " 49  FullBath       1460 non-null   int64  \n",
      " 50  HalfBath       1460 non-null   int64  \n",
      " 51  BedroomAbvGr   1460 non-null   int64  \n",
      " 52  KitchenAbvGr   1460 non-null   int64  \n",
      " 53  KitchenQual    1460 non-null   object \n",
      " 54  TotRmsAbvGrd   1460 non-null   int64  \n",
      " 55  Functional     1460 non-null   object \n",
      " 56  Fireplaces     1460 non-null   int64  \n",
      " 57  FireplaceQu    770 non-null    object \n",
      " 58  GarageType     1379 non-null   object \n",
      " 59  GarageYrBlt    1379 non-null   float64\n",
      " 60  GarageFinish   1379 non-null   object \n",
      " 61  GarageCars     1460 non-null   int64  \n",
      " 62  GarageArea     1460 non-null   int64  \n",
      " 63  GarageQual     1379 non-null   object \n",
      " 64  GarageCond     1379 non-null   object \n",
      " 65  PavedDrive     1460 non-null   object \n",
      " 66  WoodDeckSF     1460 non-null   int64  \n",
      " 67  OpenPorchSF    1460 non-null   int64  \n",
      " 68  EnclosedPorch  1460 non-null   int64  \n",
      " 69  3SsnPorch      1460 non-null   int64  \n",
      " 70  ScreenPorch    1460 non-null   int64  \n",
      " 71  PoolArea       1460 non-null   int64  \n",
      " 72  PoolQC         7 non-null      object \n",
      " 73  Fence          281 non-null    object \n",
      " 74  MiscFeature    54 non-null     object \n",
      " 75  MiscVal        1460 non-null   int64  \n",
      " 76  MoSold         1460 non-null   int64  \n",
      " 77  YrSold         1460 non-null   int64  \n",
      " 78  SaleType       1460 non-null   object \n",
      " 79  SaleCondition  1460 non-null   object \n",
      " 80  SalePrice      1460 non-null   int64  \n",
      "dtypes: float64(3), int64(35), object(43)\n",
      "memory usage: 924.0+ KB\n"
     ]
    }
   ],
   "source": [
    "train_df.info()"
   ]
  },
  {
   "cell_type": "code",
   "execution_count": 6,
   "id": "29aa478d",
   "metadata": {
    "execution": {
     "iopub.execute_input": "2022-08-29T15:10:30.484310Z",
     "iopub.status.busy": "2022-08-29T15:10:30.483838Z",
     "iopub.status.idle": "2022-08-29T15:10:30.503077Z",
     "shell.execute_reply": "2022-08-29T15:10:30.501465Z"
    },
    "papermill": {
     "duration": 0.031838,
     "end_time": "2022-08-29T15:10:30.505755",
     "exception": false,
     "start_time": "2022-08-29T15:10:30.473917",
     "status": "completed"
    },
    "tags": []
   },
   "outputs": [
    {
     "data": {
      "text/plain": [
       "PoolQC          1453\n",
       "MiscFeature     1406\n",
       "Alley           1369\n",
       "Fence           1179\n",
       "FireplaceQu      690\n",
       "LotFrontage      259\n",
       "GarageYrBlt       81\n",
       "GarageCond        81\n",
       "GarageType        81\n",
       "GarageFinish      81\n",
       "GarageQual        81\n",
       "BsmtFinType2      38\n",
       "BsmtExposure      38\n",
       "BsmtQual          37\n",
       "BsmtCond          37\n",
       "BsmtFinType1      37\n",
       "MasVnrArea         8\n",
       "MasVnrType         8\n",
       "Electrical         1\n",
       "Id                 0\n",
       "dtype: int64"
      ]
     },
     "execution_count": 6,
     "metadata": {},
     "output_type": "execute_result"
    }
   ],
   "source": [
    "train_df.isnull().sum().sort_values(ascending=False)[:20]"
   ]
  },
  {
   "cell_type": "code",
   "execution_count": 7,
   "id": "8724804b",
   "metadata": {
    "execution": {
     "iopub.execute_input": "2022-08-29T15:10:30.524883Z",
     "iopub.status.busy": "2022-08-29T15:10:30.524368Z",
     "iopub.status.idle": "2022-08-29T15:10:31.737911Z",
     "shell.execute_reply": "2022-08-29T15:10:31.736920Z"
    },
    "papermill": {
     "duration": 1.227087,
     "end_time": "2022-08-29T15:10:31.741156",
     "exception": false,
     "start_time": "2022-08-29T15:10:30.514069",
     "status": "completed"
    },
    "tags": []
   },
   "outputs": [
    {
     "data": {
      "text/plain": [
       "<AxesSubplot:>"
      ]
     },
     "execution_count": 7,
     "metadata": {},
     "output_type": "execute_result"
    },
    {
     "data": {
      "image/png": "[encoded data removed]",
      "text/plain": [
       "<Figure size 1080x576 with 2 Axes>"
      ]
     },
     "metadata": {
      "needs_background": "light"
     },
     "output_type": "display_data"
    }
   ],
   "source": [
    "import matplotlib.pyplot as plt\n",
    "import seaborn as sns\n",
    "plt.figure(figsize=(15,8))\n",
    "sns.heatmap(train_df.isna(),cmap='Paired')"
   ]
  },
  {
   "cell_type": "code",
   "execution_count": 8,
   "id": "0491e485",
   "metadata": {
    "execution": {
     "iopub.execute_input": "2022-08-29T15:10:31.765081Z",
     "iopub.status.busy": "2022-08-29T15:10:31.763794Z",
     "iopub.status.idle": "2022-08-29T15:10:31.774909Z",
     "shell.execute_reply": "2022-08-29T15:10:31.773766Z"
    },
    "papermill": {
     "duration": 0.025679,
     "end_time": "2022-08-29T15:10:31.778140",
     "exception": false,
     "start_time": "2022-08-29T15:10:31.752461",
     "status": "completed"
    },
    "tags": []
   },
   "outputs": [],
   "source": [
    "train_df['PoolQC']= train_df['PoolQC'].fillna('None')\n",
    "train_df['MiscFeature']= train_df['MiscFeature'].fillna('None')\n",
    "train_df['Alley']= train_df['Alley'].fillna('None')\n",
    "train_df['Fence']= train_df['Fence'].fillna('None')\n",
    "train_df['FireplaceQu']= train_df['FireplaceQu'].fillna('None')"
   ]
  },
  {
   "cell_type": "code",
   "execution_count": 9,
   "id": "f6d04c16",
   "metadata": {
    "execution": {
     "iopub.execute_input": "2022-08-29T15:10:31.801100Z",
     "iopub.status.busy": "2022-08-29T15:10:31.800359Z",
     "iopub.status.idle": "2022-08-29T15:10:31.823446Z",
     "shell.execute_reply": "2022-08-29T15:10:31.822603Z"
    },
    "papermill": {
     "duration": 0.037695,
     "end_time": "2022-08-29T15:10:31.826290",
     "exception": false,
     "start_time": "2022-08-29T15:10:31.788595",
     "status": "completed"
    },
    "tags": []
   },
   "outputs": [],
   "source": [
    "train_df['LotFrontage'] = train_df['LotFrontage'].fillna(train_df['LotFrontage'].mean())\n",
    "\n",
    "train_df['GarageYrBlt']= train_df['GarageYrBlt'].fillna(0)\n",
    "train_df['MasVnrArea']= train_df['MasVnrArea'].fillna(0)\n",
    "\n",
    "\n",
    "train_df['GarageCond'] = train_df['GarageCond'].fillna(train_df['GarageCond'].value_counts().idxmax())\n",
    "train_df['GarageType'] = train_df['GarageType'].fillna(train_df['GarageType'].value_counts().idxmax())\n",
    "train_df['GarageFinish'] = train_df['GarageFinish'].fillna(train_df['GarageFinish'].value_counts().idxmax())\n",
    "train_df['GarageQual'] = train_df['GarageQual'].fillna(train_df['GarageQual'].value_counts().idxmax())\n",
    "train_df['BsmtFinType2'] = train_df['BsmtFinType2'].fillna(train_df['BsmtFinType2'].value_counts().idxmax())\n",
    "train_df['BsmtExposure'] = train_df['BsmtExposure'].fillna(train_df['BsmtExposure'].value_counts().idxmax())\n",
    "train_df['BsmtQual'] = train_df['BsmtQual'].fillna(train_df['BsmtQual'].value_counts().idxmax())\n",
    "train_df['BsmtCond'] = train_df['BsmtCond'].fillna(train_df['BsmtCond'].value_counts().idxmax())\n",
    "train_df['BsmtFinType1'] = train_df['BsmtFinType1'].fillna(train_df['BsmtFinType1'].value_counts().idxmax())\n",
    "train_df['MasVnrType'] = train_df['MasVnrType'].fillna(train_df['MasVnrType'].value_counts().idxmax())\n",
    "train_df['Electrical'] = train_df['Electrical'].fillna(train_df['Electrical'].value_counts().idxmax())"
   ]
  },
  {
   "cell_type": "code",
   "execution_count": 10,
   "id": "4853d20d",
   "metadata": {
    "execution": {
     "iopub.execute_input": "2022-08-29T15:10:31.848373Z",
     "iopub.status.busy": "2022-08-29T15:10:31.847675Z",
     "iopub.status.idle": "2022-08-29T15:10:31.892240Z",
     "shell.execute_reply": "2022-08-29T15:10:31.890849Z"
    },
    "papermill": {
     "duration": 0.059176,
     "end_time": "2022-08-29T15:10:31.895428",
     "exception": false,
     "start_time": "2022-08-29T15:10:31.836252",
     "status": "completed"
    },
    "tags": []
   },
   "outputs": [],
   "source": [
    "label = LabelEncoder()\n",
    "for i in train_df.columns:\n",
    "    if train_df[i].dtypes == object:\n",
    "        train_df[i]= label.fit_transform(train_df[i])"
   ]
  },
  {
   "cell_type": "code",
   "execution_count": 11,
   "id": "0e40733e",
   "metadata": {
    "execution": {
     "iopub.execute_input": "2022-08-29T15:10:31.916986Z",
     "iopub.status.busy": "2022-08-29T15:10:31.916292Z",
     "iopub.status.idle": "2022-08-29T15:10:31.926328Z",
     "shell.execute_reply": "2022-08-29T15:10:31.925201Z"
    },
    "papermill": {
     "duration": 0.02383,
     "end_time": "2022-08-29T15:10:31.929123",
     "exception": false,
     "start_time": "2022-08-29T15:10:31.905293",
     "status": "completed"
    },
    "tags": []
   },
   "outputs": [],
   "source": [
    "X = train_df.drop('SalePrice', axis=1)\n",
    "y = train_df['SalePrice']"
   ]
  },
  {
   "cell_type": "code",
   "execution_count": 12,
   "id": "c3a4d72c",
   "metadata": {
    "execution": {
     "iopub.execute_input": "2022-08-29T15:10:31.951063Z",
     "iopub.status.busy": "2022-08-29T15:10:31.950351Z",
     "iopub.status.idle": "2022-08-29T15:10:31.958772Z",
     "shell.execute_reply": "2022-08-29T15:10:31.957699Z"
    },
    "papermill": {
     "duration": 0.022354,
     "end_time": "2022-08-29T15:10:31.961426",
     "exception": false,
     "start_time": "2022-08-29T15:10:31.939072",
     "status": "completed"
    },
    "tags": []
   },
   "outputs": [],
   "source": [
    "X_train, X_test, y_train, y_test = train_test_split(X, y, test_size=0.3, random_state=42)"
   ]
  },
  {
   "cell_type": "code",
   "execution_count": 13,
   "id": "51d439e2",
   "metadata": {
    "execution": {
     "iopub.execute_input": "2022-08-29T15:10:31.982894Z",
     "iopub.status.busy": "2022-08-29T15:10:31.982497Z",
     "iopub.status.idle": "2022-08-29T15:10:31.988024Z",
     "shell.execute_reply": "2022-08-29T15:10:31.986787Z"
    },
    "papermill": {
     "duration": 0.019071,
     "end_time": "2022-08-29T15:10:31.990371",
     "exception": false,
     "start_time": "2022-08-29T15:10:31.971300",
     "status": "completed"
    },
    "tags": []
   },
   "outputs": [],
   "source": [
    "from sklearn.ensemble import RandomForestRegressor\n",
    "rf_model=RandomForestRegressor(n_estimators=160,n_jobs=-1)"
   ]
  },
  {
   "cell_type": "code",
   "execution_count": 14,
   "id": "b7833227",
   "metadata": {
    "execution": {
     "iopub.execute_input": "2022-08-29T15:10:32.012544Z",
     "iopub.status.busy": "2022-08-29T15:10:32.012150Z",
     "iopub.status.idle": "2022-08-29T15:10:33.191705Z",
     "shell.execute_reply": "2022-08-29T15:10:33.190375Z"
    },
    "papermill": {
     "duration": 1.194351,
     "end_time": "2022-08-29T15:10:33.194959",
     "exception": false,
     "start_time": "2022-08-29T15:10:32.000608",
     "status": "completed"
    },
    "tags": []
   },
   "outputs": [],
   "source": [
    "model=rf_model.fit(X_train,y_train)"
   ]
  },
  {
   "cell_type": "code",
   "execution_count": 15,
   "id": "d90b555a",
   "metadata": {
    "execution": {
     "iopub.execute_input": "2022-08-29T15:10:33.218580Z",
     "iopub.status.busy": "2022-08-29T15:10:33.217489Z",
     "iopub.status.idle": "2022-08-29T15:10:33.328940Z",
     "shell.execute_reply": "2022-08-29T15:10:33.327588Z"
    },
    "papermill": {
     "duration": 0.126258,
     "end_time": "2022-08-29T15:10:33.332242",
     "exception": false,
     "start_time": "2022-08-29T15:10:33.205984",
     "status": "completed"
    },
    "tags": []
   },
   "outputs": [],
   "source": [
    "y_preds=model.predict(X_test)"
   ]
  },
  {
   "cell_type": "code",
   "execution_count": 16,
   "id": "2c7fa641",
   "metadata": {
    "execution": {
     "iopub.execute_input": "2022-08-29T15:10:33.354442Z",
     "iopub.status.busy": "2022-08-29T15:10:33.353982Z",
     "iopub.status.idle": "2022-08-29T15:10:33.362397Z",
     "shell.execute_reply": "2022-08-29T15:10:33.361090Z"
    },
    "papermill": {
     "duration": 0.02235,
     "end_time": "2022-08-29T15:10:33.364987",
     "exception": false,
     "start_time": "2022-08-29T15:10:33.342637",
     "status": "completed"
    },
    "tags": []
   },
   "outputs": [
    {
     "data": {
      "text/plain": [
       "725102796.4659089"
      ]
     },
     "execution_count": 16,
     "metadata": {},
     "output_type": "execute_result"
    }
   ],
   "source": [
    "mean_squared_error(y_preds,y_test)\n"
   ]
  },
  {
   "cell_type": "code",
   "execution_count": 17,
   "id": "60bfb985",
   "metadata": {
    "execution": {
     "iopub.execute_input": "2022-08-29T15:10:33.388097Z",
     "iopub.status.busy": "2022-08-29T15:10:33.387630Z",
     "iopub.status.idle": "2022-08-29T15:10:33.397049Z",
     "shell.execute_reply": "2022-08-29T15:10:33.395697Z"
    },
    "papermill": {
     "duration": 0.023992,
     "end_time": "2022-08-29T15:10:33.399362",
     "exception": false,
     "start_time": "2022-08-29T15:10:33.375370",
     "status": "completed"
    },
    "tags": []
   },
   "outputs": [
    {
     "data": {
      "text/plain": [
       "16881.44158105023"
      ]
     },
     "execution_count": 17,
     "metadata": {},
     "output_type": "execute_result"
    }
   ],
   "source": [
    "mean_absolute_error(y_preds,y_test)"
   ]
  },
  {
   "cell_type": "code",
   "execution_count": 18,
   "id": "5e7d4a28",
   "metadata": {
    "execution": {
     "iopub.execute_input": "2022-08-29T15:10:33.421535Z",
     "iopub.status.busy": "2022-08-29T15:10:33.421025Z",
     "iopub.status.idle": "2022-08-29T15:10:33.430007Z",
     "shell.execute_reply": "2022-08-29T15:10:33.429112Z"
    },
    "papermill": {
     "duration": 0.022492,
     "end_time": "2022-08-29T15:10:33.432003",
     "exception": false,
     "start_time": "2022-08-29T15:10:33.409511",
     "status": "completed"
    },
    "tags": []
   },
   "outputs": [
    {
     "data": {
      "text/plain": [
       "0.01975805932276806"
      ]
     },
     "execution_count": 18,
     "metadata": {},
     "output_type": "execute_result"
    }
   ],
   "source": [
    "mean_squared_log_error(y_preds,y_test)"
   ]
  },
  {
   "cell_type": "code",
   "execution_count": 19,
   "id": "0f9fd287",
   "metadata": {
    "execution": {
     "iopub.execute_input": "2022-08-29T15:10:33.455039Z",
     "iopub.status.busy": "2022-08-29T15:10:33.454551Z",
     "iopub.status.idle": "2022-08-29T15:10:33.567013Z",
     "shell.execute_reply": "2022-08-29T15:10:33.566172Z"
    },
    "papermill": {
     "duration": 0.127447,
     "end_time": "2022-08-29T15:10:33.569440",
     "exception": false,
     "start_time": "2022-08-29T15:10:33.441993",
     "status": "completed"
    },
    "tags": []
   },
   "outputs": [
    {
     "data": {
      "text/plain": [
       "0.9789114864735421"
      ]
     },
     "execution_count": 19,
     "metadata": {},
     "output_type": "execute_result"
    }
   ],
   "source": [
    "model.score(X_train,y_train)"
   ]
  },
  {
   "cell_type": "code",
   "execution_count": 20,
   "id": "a5de11ec",
   "metadata": {
    "execution": {
     "iopub.execute_input": "2022-08-29T15:10:33.592382Z",
     "iopub.status.busy": "2022-08-29T15:10:33.591733Z",
     "iopub.status.idle": "2022-08-29T15:10:33.705195Z",
     "shell.execute_reply": "2022-08-29T15:10:33.703805Z"
    },
    "papermill": {
     "duration": 0.128115,
     "end_time": "2022-08-29T15:10:33.707978",
     "exception": false,
     "start_time": "2022-08-29T15:10:33.579863",
     "status": "completed"
    },
    "tags": []
   },
   "outputs": [
    {
     "data": {
      "text/plain": [
       "0.8960886996783052"
      ]
     },
     "execution_count": 20,
     "metadata": {},
     "output_type": "execute_result"
    }
   ],
   "source": [
    "model.score(X_test,y_test)"
   ]
  },
  {
   "cell_type": "code",
   "execution_count": 21,
   "id": "1ebaf8ee",
   "metadata": {
    "execution": {
     "iopub.execute_input": "2022-08-29T15:10:33.731702Z",
     "iopub.status.busy": "2022-08-29T15:10:33.730466Z",
     "iopub.status.idle": "2022-08-29T15:10:33.737999Z",
     "shell.execute_reply": "2022-08-29T15:10:33.736775Z"
    },
    "papermill": {
     "duration": 0.022393,
     "end_time": "2022-08-29T15:10:33.740632",
     "exception": false,
     "start_time": "2022-08-29T15:10:33.718239",
     "status": "completed"
    },
    "tags": []
   },
   "outputs": [],
   "source": [
    "d_test=test_df.copy()\n",
    "d_train=train_df.copy()"
   ]
  },
  {
   "cell_type": "code",
   "execution_count": 22,
   "id": "0ac01a15",
   "metadata": {
    "execution": {
     "iopub.execute_input": "2022-08-29T15:10:33.764380Z",
     "iopub.status.busy": "2022-08-29T15:10:33.763236Z",
     "iopub.status.idle": "2022-08-29T15:10:33.812184Z",
     "shell.execute_reply": "2022-08-29T15:10:33.810843Z"
    },
    "papermill": {
     "duration": 0.063997,
     "end_time": "2022-08-29T15:10:33.815205",
     "exception": false,
     "start_time": "2022-08-29T15:10:33.751208",
     "status": "completed"
    },
    "tags": []
   },
   "outputs": [],
   "source": [
    "d_test['PoolQC']= d_test['PoolQC'].fillna('None')\n",
    "d_test['MiscFeature']= d_test['MiscFeature'].fillna('None')\n",
    "d_test['Alley']= d_test['Alley'].fillna('None')\n",
    "d_test['Fence']= d_test['Fence'].fillna('None')\n",
    "d_test['FireplaceQu']= d_test['FireplaceQu'].fillna('None')\n",
    "\n",
    "d_test['LotFrontage'] = d_test['LotFrontage'].fillna(d_test['LotFrontage'].mean())\n",
    "\n",
    "# Filling these columns with zero values\n",
    "\n",
    "d_test['GarageYrBlt']= d_test['GarageYrBlt'].fillna(0)\n",
    "d_test['MasVnrArea']= d_test['MasVnrArea'].fillna(0)\n",
    "\n",
    "d_test['GarageCond'] = d_test['GarageCond'].fillna(d_train['GarageCond'].value_counts().idxmax())\n",
    "d_test['GarageType'] = d_test['GarageType'].fillna(d_train['GarageType'].value_counts().idxmax())\n",
    "d_test['GarageFinish'] = d_test['GarageFinish'].fillna(d_train['GarageFinish'].value_counts().idxmax())\n",
    "d_test['GarageQual'] = d_test['GarageQual'].fillna(d_train['GarageQual'].value_counts().idxmax())\n",
    "d_test['BsmtFinType2'] = d_test['BsmtFinType2'].fillna(d_train['BsmtFinType2'].value_counts().idxmax())\n",
    "d_test['BsmtExposure'] = d_test['BsmtExposure'].fillna(d_train['BsmtExposure'].value_counts().idxmax())\n",
    "d_test['BsmtQual'] = d_test['BsmtQual'].fillna(d_train['BsmtQual'].value_counts().idxmax())\n",
    "d_test['BsmtCond'] = d_test['BsmtCond'].fillna(d_train['BsmtCond'].value_counts().idxmax())\n",
    "d_test['BsmtFinType1'] = d_test['BsmtFinType1'].fillna(d_train['BsmtFinType1'].value_counts().idxmax())\n",
    "d_test['MasVnrType'] = d_test['MasVnrType'].fillna(d_train['MasVnrType'].value_counts().idxmax())\n",
    "d_test['Electrical'] = d_test['Electrical'].fillna(d_train['Electrical'].value_counts().idxmax())\n",
    "d_test['MSZoning'] = d_test['MSZoning'].fillna(d_train['MSZoning'].value_counts().idxmax())\n",
    "d_test['BsmtFullBath'] = d_test['BsmtFullBath'].fillna(d_train['BsmtFullBath'].value_counts().idxmax())\n",
    "d_test['BsmtHalfBath'] = d_test['BsmtHalfBath'].fillna(d_train['BsmtHalfBath'].value_counts().idxmax())\n",
    "d_test['Functional'] = d_test['Functional'].fillna(d_train['Functional'].value_counts().idxmax())\n",
    "d_test['Utilities'] = d_test['Utilities'].fillna(d_train['Utilities'].value_counts().idxmax())\n",
    "d_test['Exterior2nd'] = d_test['Exterior2nd'].fillna(d_train['Exterior2nd'].value_counts().idxmax())\n",
    "d_test['SaleType'] = d_test['SaleType'].fillna(d_train['SaleType'].value_counts().idxmax())\n",
    "d_test['Exterior1st'] = d_test['Exterior1st'].fillna(d_train['Exterior1st'].value_counts().idxmax())\n",
    "d_test['KitchenQual'] = d_test['KitchenQual'].fillna(d_train['KitchenQual'].value_counts().idxmax())\n",
    "\n",
    "\n",
    "d_test['BsmtFinSF2'] = d_test['BsmtFinSF2'].fillna(d_train['BsmtFinSF2'].mean())\n",
    "d_test['GarageArea'] = d_test['GarageArea'].fillna(d_train['GarageArea'].mean())\n",
    "d_test['BsmtFinSF1'] = d_test['BsmtFinSF1'].fillna(d_train['BsmtFinSF1'].mean())\n",
    "d_test['GarageCars'] = d_test['GarageCars'].fillna(d_train['GarageCars'].mean())\n",
    "d_test['TotalBsmtSF'] = d_test['TotalBsmtSF'].fillna(d_train['TotalBsmtSF'].mean())\n",
    "d_test['BsmtUnfSF'] = d_test['BsmtUnfSF'].fillna(d_train['BsmtUnfSF'].mean())"
   ]
  },
  {
   "cell_type": "code",
   "execution_count": 23,
   "id": "4c782422",
   "metadata": {
    "execution": {
     "iopub.execute_input": "2022-08-29T15:10:33.839430Z",
     "iopub.status.busy": "2022-08-29T15:10:33.837971Z",
     "iopub.status.idle": "2022-08-29T15:10:34.596807Z",
     "shell.execute_reply": "2022-08-29T15:10:34.595284Z"
    },
    "papermill": {
     "duration": 0.773234,
     "end_time": "2022-08-29T15:10:34.599485",
     "exception": false,
     "start_time": "2022-08-29T15:10:33.826251",
     "status": "completed"
    },
    "tags": []
   },
   "outputs": [
    {
     "data": {
      "text/plain": [
       "(438,)"
      ]
     },
     "execution_count": 23,
     "metadata": {},
     "output_type": "execute_result"
    }
   ],
   "source": [
    "from xgboost import XGBRegressor\n",
    "\n",
    "xgboost = XGBRegressor()\n",
    "xgboost.fit(X_train, y_train)\n",
    "y_pred_xgboost =model.predict(X_test)\n",
    "y_pred_xgboost.shape"
   ]
  },
  {
   "cell_type": "code",
   "execution_count": 24,
   "id": "e25e1dc5",
   "metadata": {
    "execution": {
     "iopub.execute_input": "2022-08-29T15:10:34.622577Z",
     "iopub.status.busy": "2022-08-29T15:10:34.622139Z",
     "iopub.status.idle": "2022-08-29T15:10:34.647073Z",
     "shell.execute_reply": "2022-08-29T15:10:34.645732Z"
    },
    "papermill": {
     "duration": 0.040466,
     "end_time": "2022-08-29T15:10:34.650647",
     "exception": false,
     "start_time": "2022-08-29T15:10:34.610181",
     "status": "completed"
    },
    "tags": []
   },
   "outputs": [
    {
     "name": "stdout",
     "output_type": "stream",
     "text": [
      "<class 'pandas.core.frame.DataFrame'>\n",
      "RangeIndex: 1459 entries, 0 to 1458\n",
      "Data columns (total 80 columns):\n",
      " #   Column         Non-Null Count  Dtype  \n",
      "---  ------         --------------  -----  \n",
      " 0   Id             1459 non-null   int64  \n",
      " 1   MSSubClass     1459 non-null   int64  \n",
      " 2   MSZoning       1459 non-null   object \n",
      " 3   LotFrontage    1459 non-null   float64\n",
      " 4   LotArea        1459 non-null   int64  \n",
      " 5   Street         1459 non-null   object \n",
      " 6   Alley          1459 non-null   object \n",
      " 7   LotShape       1459 non-null   object \n",
      " 8   LandContour    1459 non-null   object \n",
      " 9   Utilities      1459 non-null   object \n",
      " 10  LotConfig      1459 non-null   object \n",
      " 11  LandSlope      1459 non-null   object \n",
      " 12  Neighborhood   1459 non-null   object \n",
      " 13  Condition1     1459 non-null   object \n",
      " 14  Condition2     1459 non-null   object \n",
      " 15  BldgType       1459 non-null   object \n",
      " 16  HouseStyle     1459 non-null   object \n",
      " 17  OverallQual    1459 non-null   int64  \n",
      " 18  OverallCond    1459 non-null   int64  \n",
      " 19  YearBuilt      1459 non-null   int64  \n",
      " 20  YearRemodAdd   1459 non-null   int64  \n",
      " 21  RoofStyle      1459 non-null   object \n",
      " 22  RoofMatl       1459 non-null   object \n",
      " 23  Exterior1st    1459 non-null   object \n",
      " 24  Exterior2nd    1459 non-null   object \n",
      " 25  MasVnrType     1459 non-null   object \n",
      " 26  MasVnrArea     1459 non-null   float64\n",
      " 27  ExterQual      1459 non-null   object \n",
      " 28  ExterCond      1459 non-null   object \n",
      " 29  Foundation     1459 non-null   object \n",
      " 30  BsmtQual       1459 non-null   object \n",
      " 31  BsmtCond       1459 non-null   object \n",
      " 32  BsmtExposure   1459 non-null   object \n",
      " 33  BsmtFinType1   1459 non-null   object \n",
      " 34  BsmtFinSF1     1459 non-null   float64\n",
      " 35  BsmtFinType2   1459 non-null   object \n",
      " 36  BsmtFinSF2     1459 non-null   float64\n",
      " 37  BsmtUnfSF      1459 non-null   float64\n",
      " 38  TotalBsmtSF    1459 non-null   float64\n",
      " 39  Heating        1459 non-null   object \n",
      " 40  HeatingQC      1459 non-null   object \n",
      " 41  CentralAir     1459 non-null   object \n",
      " 42  Electrical     1459 non-null   object \n",
      " 43  1stFlrSF       1459 non-null   int64  \n",
      " 44  2ndFlrSF       1459 non-null   int64  \n",
      " 45  LowQualFinSF   1459 non-null   int64  \n",
      " 46  GrLivArea      1459 non-null   int64  \n",
      " 47  BsmtFullBath   1459 non-null   float64\n",
      " 48  BsmtHalfBath   1459 non-null   float64\n",
      " 49  FullBath       1459 non-null   int64  \n",
      " 50  HalfBath       1459 non-null   int64  \n",
      " 51  BedroomAbvGr   1459 non-null   int64  \n",
      " 52  KitchenAbvGr   1459 non-null   int64  \n",
      " 53  KitchenQual    1459 non-null   object \n",
      " 54  TotRmsAbvGrd   1459 non-null   int64  \n",
      " 55  Functional     1459 non-null   object \n",
      " 56  Fireplaces     1459 non-null   int64  \n",
      " 57  FireplaceQu    1459 non-null   object \n",
      " 58  GarageType     1459 non-null   object \n",
      " 59  GarageYrBlt    1459 non-null   float64\n",
      " 60  GarageFinish   1459 non-null   object \n",
      " 61  GarageCars     1459 non-null   float64\n",
      " 62  GarageArea     1459 non-null   float64\n",
      " 63  GarageQual     1459 non-null   object \n",
      " 64  GarageCond     1459 non-null   object \n",
      " 65  PavedDrive     1459 non-null   object \n",
      " 66  WoodDeckSF     1459 non-null   int64  \n",
      " 67  OpenPorchSF    1459 non-null   int64  \n",
      " 68  EnclosedPorch  1459 non-null   int64  \n",
      " 69  3SsnPorch      1459 non-null   int64  \n",
      " 70  ScreenPorch    1459 non-null   int64  \n",
      " 71  PoolArea       1459 non-null   int64  \n",
      " 72  PoolQC         1459 non-null   object \n",
      " 73  Fence          1459 non-null   object \n",
      " 74  MiscFeature    1459 non-null   object \n",
      " 75  MiscVal        1459 non-null   int64  \n",
      " 76  MoSold         1459 non-null   int64  \n",
      " 77  YrSold         1459 non-null   int64  \n",
      " 78  SaleType       1459 non-null   object \n",
      " 79  SaleCondition  1459 non-null   object \n",
      "dtypes: float64(11), int64(26), object(43)\n",
      "memory usage: 912.0+ KB\n"
     ]
    }
   ],
   "source": [
    "d_test.info()"
   ]
  },
  {
   "cell_type": "code",
   "execution_count": 25,
   "id": "91506758",
   "metadata": {
    "execution": {
     "iopub.execute_input": "2022-08-29T15:10:34.673718Z",
     "iopub.status.busy": "2022-08-29T15:10:34.672793Z",
     "iopub.status.idle": "2022-08-29T15:10:34.727258Z",
     "shell.execute_reply": "2022-08-29T15:10:34.726008Z"
    },
    "papermill": {
     "duration": 0.069027,
     "end_time": "2022-08-29T15:10:34.730030",
     "exception": false,
     "start_time": "2022-08-29T15:10:34.661003",
     "status": "completed"
    },
    "tags": []
   },
   "outputs": [],
   "source": [
    "label = LabelEncoder()\n",
    "for x in d_test.columns:\n",
    "    if d_test[x].dtypes == object:\n",
    "        d_test[x]= label.fit_transform(d_test[x].astype(str))"
   ]
  },
  {
   "cell_type": "code",
   "execution_count": 26,
   "id": "6e69a2ca",
   "metadata": {
    "execution": {
     "iopub.execute_input": "2022-08-29T15:10:34.753825Z",
     "iopub.status.busy": "2022-08-29T15:10:34.753269Z",
     "iopub.status.idle": "2022-08-29T15:10:34.867627Z",
     "shell.execute_reply": "2022-08-29T15:10:34.866430Z"
    },
    "papermill": {
     "duration": 0.129599,
     "end_time": "2022-08-29T15:10:34.870436",
     "exception": false,
     "start_time": "2022-08-29T15:10:34.740837",
     "status": "completed"
    },
    "tags": []
   },
   "outputs": [],
   "source": [
    "subs=model.predict(d_test)"
   ]
  },
  {
   "cell_type": "code",
   "execution_count": 27,
   "id": "763f3f35",
   "metadata": {
    "execution": {
     "iopub.execute_input": "2022-08-29T15:10:34.892098Z",
     "iopub.status.busy": "2022-08-29T15:10:34.891696Z",
     "iopub.status.idle": "2022-08-29T15:10:34.899180Z",
     "shell.execute_reply": "2022-08-29T15:10:34.897772Z"
    },
    "papermill": {
     "duration": 0.021463,
     "end_time": "2022-08-29T15:10:34.901735",
     "exception": false,
     "start_time": "2022-08-29T15:10:34.880272",
     "status": "completed"
    },
    "tags": []
   },
   "outputs": [],
   "source": [
    "id_test = d_test['Id']\n",
    "d_test = pd.DataFrame(d_test, columns=['ID'])"
   ]
  },
  {
   "cell_type": "code",
   "execution_count": 28,
   "id": "11aba941",
   "metadata": {
    "execution": {
     "iopub.execute_input": "2022-08-29T15:10:34.925152Z",
     "iopub.status.busy": "2022-08-29T15:10:34.924434Z",
     "iopub.status.idle": "2022-08-29T15:10:34.929149Z",
     "shell.execute_reply": "2022-08-29T15:10:34.928416Z"
    },
    "papermill": {
     "duration": 0.018851,
     "end_time": "2022-08-29T15:10:34.931524",
     "exception": false,
     "start_time": "2022-08-29T15:10:34.912673",
     "status": "completed"
    },
    "tags": []
   },
   "outputs": [],
   "source": [
    "prediction = pd.DataFrame(subs, columns=[\"SalePrice\"])"
   ]
  },
  {
   "cell_type": "code",
   "execution_count": 29,
   "id": "c69ff0d5",
   "metadata": {
    "execution": {
     "iopub.execute_input": "2022-08-29T15:10:34.954350Z",
     "iopub.status.busy": "2022-08-29T15:10:34.953939Z",
     "iopub.status.idle": "2022-08-29T15:10:34.959447Z",
     "shell.execute_reply": "2022-08-29T15:10:34.958671Z"
    },
    "papermill": {
     "duration": 0.019826,
     "end_time": "2022-08-29T15:10:34.961952",
     "exception": false,
     "start_time": "2022-08-29T15:10:34.942126",
     "status": "completed"
    },
    "tags": []
   },
   "outputs": [],
   "source": [
    "output = pd.concat([id_test, prediction],axis=1)"
   ]
  },
  {
   "cell_type": "code",
   "execution_count": 30,
   "id": "c2fd82cc",
   "metadata": {
    "execution": {
     "iopub.execute_input": "2022-08-29T15:10:34.985970Z",
     "iopub.status.busy": "2022-08-29T15:10:34.985364Z",
     "iopub.status.idle": "2022-08-29T15:10:35.001848Z",
     "shell.execute_reply": "2022-08-29T15:10:35.001043Z"
    },
    "papermill": {
     "duration": 0.031196,
     "end_time": "2022-08-29T15:10:35.004277",
     "exception": false,
     "start_time": "2022-08-29T15:10:34.973081",
     "status": "completed"
    },
    "tags": []
   },
   "outputs": [
    {
     "data": {
      "text/html": [
       "<div>\n",
       "<style scoped>\n",
       "    .dataframe tbody tr th:only-of-type {\n",
       "        vertical-align: middle;\n",
       "    }\n",
       "\n",
       "    .dataframe tbody tr th {\n",
       "        vertical-align: top;\n",
       "    }\n",
       "\n",
       "    .dataframe thead th {\n",
       "        text-align: right;\n",
       "    }\n",
       "</style>\n",
       "<table border=\"1\" class=\"dataframe\">\n",
       "  <thead>\n",
       "    <tr style=\"text-align: right;\">\n",
       "      <th></th>\n",
       "      <th>Id</th>\n",
       "      <th>SalePrice</th>\n",
       "    </tr>\n",
       "  </thead>\n",
       "  <tbody>\n",
       "    <tr>\n",
       "      <th>0</th>\n",
       "      <td>1461</td>\n",
       "      <td>123429.68750</td>\n",
       "    </tr>\n",
       "    <tr>\n",
       "      <th>1</th>\n",
       "      <td>1462</td>\n",
       "      <td>150722.34375</td>\n",
       "    </tr>\n",
       "    <tr>\n",
       "      <th>2</th>\n",
       "      <td>1463</td>\n",
       "      <td>176800.02500</td>\n",
       "    </tr>\n",
       "    <tr>\n",
       "      <th>3</th>\n",
       "      <td>1464</td>\n",
       "      <td>177373.76250</td>\n",
       "    </tr>\n",
       "    <tr>\n",
       "      <th>4</th>\n",
       "      <td>1465</td>\n",
       "      <td>201194.55000</td>\n",
       "    </tr>\n",
       "    <tr>\n",
       "      <th>...</th>\n",
       "      <td>...</td>\n",
       "      <td>...</td>\n",
       "    </tr>\n",
       "    <tr>\n",
       "      <th>1454</th>\n",
       "      <td>2915</td>\n",
       "      <td>90995.31250</td>\n",
       "    </tr>\n",
       "    <tr>\n",
       "      <th>1455</th>\n",
       "      <td>2916</td>\n",
       "      <td>94306.87500</td>\n",
       "    </tr>\n",
       "    <tr>\n",
       "      <th>1456</th>\n",
       "      <td>2917</td>\n",
       "      <td>155315.87500</td>\n",
       "    </tr>\n",
       "    <tr>\n",
       "      <th>1457</th>\n",
       "      <td>2918</td>\n",
       "      <td>113967.18750</td>\n",
       "    </tr>\n",
       "    <tr>\n",
       "      <th>1458</th>\n",
       "      <td>2919</td>\n",
       "      <td>228376.36250</td>\n",
       "    </tr>\n",
       "  </tbody>\n",
       "</table>\n",
       "<p>1459 rows × 2 columns</p>\n",
       "</div>"
      ],
      "text/plain": [
       "        Id     SalePrice\n",
       "0     1461  123429.68750\n",
       "1     1462  150722.34375\n",
       "2     1463  176800.02500\n",
       "3     1464  177373.76250\n",
       "4     1465  201194.55000\n",
       "...    ...           ...\n",
       "1454  2915   90995.31250\n",
       "1455  2916   94306.87500\n",
       "1456  2917  155315.87500\n",
       "1457  2918  113967.18750\n",
       "1458  2919  228376.36250\n",
       "\n",
       "[1459 rows x 2 columns]"
      ]
     },
     "execution_count": 30,
     "metadata": {},
     "output_type": "execute_result"
    }
   ],
   "source": [
    "output"
   ]
  },
  {
   "cell_type": "code",
   "execution_count": 31,
   "id": "a0c70340",
   "metadata": {
    "execution": {
     "iopub.execute_input": "2022-08-29T15:10:35.029333Z",
     "iopub.status.busy": "2022-08-29T15:10:35.028724Z",
     "iopub.status.idle": "2022-08-29T15:10:35.041041Z",
     "shell.execute_reply": "2022-08-29T15:10:35.039654Z"
    },
    "papermill": {
     "duration": 0.027735,
     "end_time": "2022-08-29T15:10:35.043908",
     "exception": false,
     "start_time": "2022-08-29T15:10:35.016173",
     "status": "completed"
    },
    "tags": []
   },
   "outputs": [],
   "source": [
    "output.to_csv('submission.csv', index=False)"
   ]
  },
  {
   "cell_type": "code",
   "execution_count": 32,
   "id": "508a4591",
   "metadata": {
    "execution": {
     "iopub.execute_input": "2022-08-29T15:10:35.067906Z",
     "iopub.status.busy": "2022-08-29T15:10:35.066704Z",
     "iopub.status.idle": "2022-08-29T15:10:36.197836Z",
     "shell.execute_reply": "2022-08-29T15:10:36.196070Z"
    },
    "papermill": {
     "duration": 1.146617,
     "end_time": "2022-08-29T15:10:36.201199",
     "exception": false,
     "start_time": "2022-08-29T15:10:35.054582",
     "status": "completed"
    },
    "tags": []
   },
   "outputs": [
    {
     "name": "stdout",
     "output_type": "stream",
     "text": [
      "Id,SalePrice\r\n",
      "1461,123429.6875\r\n",
      "1462,150722.34375\r\n",
      "1463,176800.025\r\n",
      "1464,177373.7625\r\n",
      "1465,201194.55\r\n",
      "1466,178210.35625\r\n",
      "1467,165705.45\r\n",
      "1468,167164.06875\r\n",
      "1469,176902.375\r\n"
     ]
    }
   ],
   "source": [
    "!head submission.csv"
   ]
  },
  {
   "cell_type": "code",
   "execution_count": null,
   "id": "f560e536",
   "metadata": {
    "papermill": {
     "duration": 0.010313,
     "end_time": "2022-08-29T15:10:36.222972",
     "exception": false,
     "start_time": "2022-08-29T15:10:36.212659",
     "status": "completed"
    },
    "tags": []
   },
   "outputs": [],
   "source": []
  }
 ],
 "metadata": {
  "kernelspec": {
   "display_name": "Python 3",
   "language": "python",
   "name": "python3"
  },
  "language_info": {
   "codemirror_mode": {
    "name": "ipython",
    "version": 3
   },
   "file_extension": ".py",
   "mimetype": "text/x-python",
   "name": "python",
   "nbconvert_exporter": "python",
   "pygments_lexer": "ipython3",
   "version": "3.7.12"
  },
  "papermill": {
   "default_parameters": {},
   "duration": 18.83235,
   "end_time": "2022-08-29T15:10:37.359820",
   "environment_variables": {},
   "exception": null,
   "input_path": "__notebook__.ipynb",
   "output_path": "__notebook__.ipynb",
   "parameters": {},
   "start_time": "2022-08-29T15:10:18.527470",
   "version": "2.3.4"
  }
 },
 "nbformat": 4,
 "nbformat_minor": 5
}
