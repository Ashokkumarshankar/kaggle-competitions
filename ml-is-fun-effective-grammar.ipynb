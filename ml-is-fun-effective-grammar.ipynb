{
 "cells": [
  {
   "cell_type": "code",
   "execution_count": 1,
   "id": "eca1094d",
   "metadata": {
    "_cell_guid": "b1076dfc-b9ad-4769-8c92-a6c4dae69d19",
    "_uuid": "8f2839f25d086af736a60e9eeb907d3b93b6e0e5",
    "execution": {
     "iopub.execute_input": "2022-09-23T19:13:49.064995Z",
     "iopub.status.busy": "2022-09-23T19:13:49.064203Z",
     "iopub.status.idle": "2022-09-23T19:13:49.077497Z",
     "shell.execute_reply": "2022-09-23T19:13:49.076233Z"
    },
    "papermill": {
     "duration": 0.023877,
     "end_time": "2022-09-23T19:13:49.080234",
     "exception": false,
     "start_time": "2022-09-23T19:13:49.056357",
     "status": "completed"
    },
    "tags": []
   },
   "outputs": [
    {
     "name": "stdout",
     "output_type": "stream",
     "text": [
      "/kaggle/input/feedback-prize-english-language-learning/sample_submission.csv\n",
      "/kaggle/input/feedback-prize-english-language-learning/train.csv\n",
      "/kaggle/input/feedback-prize-english-language-learning/test.csv\n"
     ]
    }
   ],
   "source": [
    "# This Python 3 environment comes with many helpful analytics libraries installed\n",
    "# It is defined by the kaggle/python Docker image: https://github.com/kaggle/docker-python\n",
    "# For example, here's several helpful packages to load\n",
    "\n",
    "import numpy as np # linear algebra\n",
    "import pandas as pd # data processing, CSV file I/O (e.g. pd.read_csv)\n",
    "\n",
    "# Input data files are available in the read-only \"../input/\" directory\n",
    "# For example, running this (by clicking run or pressing Shift+Enter) will list all files under the input directory\n",
    "\n",
    "import os\n",
    "for dirname, _, filenames in os.walk('/kaggle/input'):\n",
    "    for filename in filenames:\n",
    "        print(os.path.join(dirname, filename))\n",
    "\n",
    "# You can write up to 20GB to the current directory (/kaggle/working/) that gets preserved as output when you create a version using \"Save & Run All\" \n",
    "# You can also write temporary files to /kaggle/temp/, but they won't be saved outside of the current session"
   ]
  },
  {
   "cell_type": "code",
   "execution_count": 2,
   "id": "e1d5e586",
   "metadata": {
    "execution": {
     "iopub.execute_input": "2022-09-23T19:13:49.091873Z",
     "iopub.status.busy": "2022-09-23T19:13:49.091086Z",
     "iopub.status.idle": "2022-09-23T19:13:49.306928Z",
     "shell.execute_reply": "2022-09-23T19:13:49.305823Z"
    },
    "papermill": {
     "duration": 0.223793,
     "end_time": "2022-09-23T19:13:49.309468",
     "exception": false,
     "start_time": "2022-09-23T19:13:49.085675",
     "status": "completed"
    },
    "tags": []
   },
   "outputs": [],
   "source": [
    "train_file=pd.read_csv('/kaggle/input/feedback-prize-english-language-learning/train.csv')\n",
    "test_file=pd.read_csv('/kaggle/input/feedback-prize-english-language-learning/test.csv')"
   ]
  },
  {
   "cell_type": "code",
   "execution_count": 3,
   "id": "56373815",
   "metadata": {
    "execution": {
     "iopub.execute_input": "2022-09-23T19:13:49.321930Z",
     "iopub.status.busy": "2022-09-23T19:13:49.320231Z",
     "iopub.status.idle": "2022-09-23T19:13:49.349753Z",
     "shell.execute_reply": "2022-09-23T19:13:49.348342Z"
    },
    "papermill": {
     "duration": 0.037655,
     "end_time": "2022-09-23T19:13:49.351959",
     "exception": false,
     "start_time": "2022-09-23T19:13:49.314304",
     "status": "completed"
    },
    "tags": []
   },
   "outputs": [
    {
     "name": "stdout",
     "output_type": "stream",
     "text": [
      "<class 'pandas.core.frame.DataFrame'>\n",
      "RangeIndex: 3911 entries, 0 to 3910\n",
      "Data columns (total 8 columns):\n",
      " #   Column       Non-Null Count  Dtype  \n",
      "---  ------       --------------  -----  \n",
      " 0   text_id      3911 non-null   object \n",
      " 1   full_text    3911 non-null   object \n",
      " 2   cohesion     3911 non-null   float64\n",
      " 3   syntax       3911 non-null   float64\n",
      " 4   vocabulary   3911 non-null   float64\n",
      " 5   phraseology  3911 non-null   float64\n",
      " 6   grammar      3911 non-null   float64\n",
      " 7   conventions  3911 non-null   float64\n",
      "dtypes: float64(6), object(2)\n",
      "memory usage: 244.6+ KB\n"
     ]
    }
   ],
   "source": [
    "train_file.info()"
   ]
  },
  {
   "cell_type": "code",
   "execution_count": 4,
   "id": "6d8d6c80",
   "metadata": {
    "execution": {
     "iopub.execute_input": "2022-09-23T19:13:49.363929Z",
     "iopub.status.busy": "2022-09-23T19:13:49.363215Z",
     "iopub.status.idle": "2022-09-23T19:13:49.383578Z",
     "shell.execute_reply": "2022-09-23T19:13:49.382294Z"
    },
    "papermill": {
     "duration": 0.029661,
     "end_time": "2022-09-23T19:13:49.386723",
     "exception": false,
     "start_time": "2022-09-23T19:13:49.357062",
     "status": "completed"
    },
    "tags": []
   },
   "outputs": [
    {
     "data": {
      "text/html": [
       "<div>\n",
       "<style scoped>\n",
       "    .dataframe tbody tr th:only-of-type {\n",
       "        vertical-align: middle;\n",
       "    }\n",
       "\n",
       "    .dataframe tbody tr th {\n",
       "        vertical-align: top;\n",
       "    }\n",
       "\n",
       "    .dataframe thead th {\n",
       "        text-align: right;\n",
       "    }\n",
       "</style>\n",
       "<table border=\"1\" class=\"dataframe\">\n",
       "  <thead>\n",
       "    <tr style=\"text-align: right;\">\n",
       "      <th></th>\n",
       "      <th>text_id</th>\n",
       "      <th>full_text</th>\n",
       "      <th>cohesion</th>\n",
       "      <th>syntax</th>\n",
       "      <th>vocabulary</th>\n",
       "      <th>phraseology</th>\n",
       "      <th>grammar</th>\n",
       "      <th>conventions</th>\n",
       "    </tr>\n",
       "  </thead>\n",
       "  <tbody>\n",
       "    <tr>\n",
       "      <th>0</th>\n",
       "      <td>0016926B079C</td>\n",
       "      <td>I think that students would benefit from learn...</td>\n",
       "      <td>3.5</td>\n",
       "      <td>3.5</td>\n",
       "      <td>3.0</td>\n",
       "      <td>3.0</td>\n",
       "      <td>4.0</td>\n",
       "      <td>3.0</td>\n",
       "    </tr>\n",
       "    <tr>\n",
       "      <th>1</th>\n",
       "      <td>0022683E9EA5</td>\n",
       "      <td>When a problem is a change you have to let it ...</td>\n",
       "      <td>2.5</td>\n",
       "      <td>2.5</td>\n",
       "      <td>3.0</td>\n",
       "      <td>2.0</td>\n",
       "      <td>2.0</td>\n",
       "      <td>2.5</td>\n",
       "    </tr>\n",
       "    <tr>\n",
       "      <th>2</th>\n",
       "      <td>00299B378633</td>\n",
       "      <td>Dear, Principal\\n\\nIf u change the school poli...</td>\n",
       "      <td>3.0</td>\n",
       "      <td>3.5</td>\n",
       "      <td>3.0</td>\n",
       "      <td>3.0</td>\n",
       "      <td>3.0</td>\n",
       "      <td>2.5</td>\n",
       "    </tr>\n",
       "  </tbody>\n",
       "</table>\n",
       "</div>"
      ],
      "text/plain": [
       "        text_id                                          full_text  cohesion  \\\n",
       "0  0016926B079C  I think that students would benefit from learn...       3.5   \n",
       "1  0022683E9EA5  When a problem is a change you have to let it ...       2.5   \n",
       "2  00299B378633  Dear, Principal\\n\\nIf u change the school poli...       3.0   \n",
       "\n",
       "   syntax  vocabulary  phraseology  grammar  conventions  \n",
       "0     3.5         3.0          3.0      4.0          3.0  \n",
       "1     2.5         3.0          2.0      2.0          2.5  \n",
       "2     3.5         3.0          3.0      3.0          2.5  "
      ]
     },
     "execution_count": 4,
     "metadata": {},
     "output_type": "execute_result"
    }
   ],
   "source": [
    "train_file.head(3)"
   ]
  },
  {
   "cell_type": "code",
   "execution_count": 5,
   "id": "09a44c16",
   "metadata": {
    "execution": {
     "iopub.execute_input": "2022-09-23T19:13:49.399914Z",
     "iopub.status.busy": "2022-09-23T19:13:49.399596Z",
     "iopub.status.idle": "2022-09-23T19:13:49.408628Z",
     "shell.execute_reply": "2022-09-23T19:13:49.407593Z"
    },
    "papermill": {
     "duration": 0.018611,
     "end_time": "2022-09-23T19:13:49.411054",
     "exception": false,
     "start_time": "2022-09-23T19:13:49.392443",
     "status": "completed"
    },
    "tags": []
   },
   "outputs": [
    {
     "data": {
      "text/html": [
       "<div>\n",
       "<style scoped>\n",
       "    .dataframe tbody tr th:only-of-type {\n",
       "        vertical-align: middle;\n",
       "    }\n",
       "\n",
       "    .dataframe tbody tr th {\n",
       "        vertical-align: top;\n",
       "    }\n",
       "\n",
       "    .dataframe thead th {\n",
       "        text-align: right;\n",
       "    }\n",
       "</style>\n",
       "<table border=\"1\" class=\"dataframe\">\n",
       "  <thead>\n",
       "    <tr style=\"text-align: right;\">\n",
       "      <th></th>\n",
       "      <th>text_id</th>\n",
       "      <th>full_text</th>\n",
       "    </tr>\n",
       "  </thead>\n",
       "  <tbody>\n",
       "    <tr>\n",
       "      <th>0</th>\n",
       "      <td>0000C359D63E</td>\n",
       "      <td>when a person has no experience on a job their...</td>\n",
       "    </tr>\n",
       "    <tr>\n",
       "      <th>1</th>\n",
       "      <td>000BAD50D026</td>\n",
       "      <td>Do you think students would benefit from being...</td>\n",
       "    </tr>\n",
       "  </tbody>\n",
       "</table>\n",
       "</div>"
      ],
      "text/plain": [
       "        text_id                                          full_text\n",
       "0  0000C359D63E  when a person has no experience on a job their...\n",
       "1  000BAD50D026  Do you think students would benefit from being..."
      ]
     },
     "execution_count": 5,
     "metadata": {},
     "output_type": "execute_result"
    }
   ],
   "source": [
    "test_file.head(2)"
   ]
  },
  {
   "cell_type": "code",
   "execution_count": 6,
   "id": "380f7435",
   "metadata": {
    "execution": {
     "iopub.execute_input": "2022-09-23T19:13:49.424998Z",
     "iopub.status.busy": "2022-09-23T19:13:49.423429Z",
     "iopub.status.idle": "2022-09-23T19:13:49.430656Z",
     "shell.execute_reply": "2022-09-23T19:13:49.429589Z"
    },
    "papermill": {
     "duration": 0.016091,
     "end_time": "2022-09-23T19:13:49.432886",
     "exception": false,
     "start_time": "2022-09-23T19:13:49.416795",
     "status": "completed"
    },
    "tags": []
   },
   "outputs": [
    {
     "data": {
      "text/plain": [
       "Index(['text_id', 'full_text', 'cohesion', 'syntax', 'vocabulary',\n",
       "       'phraseology', 'grammar', 'conventions'],\n",
       "      dtype='object')"
      ]
     },
     "execution_count": 6,
     "metadata": {},
     "output_type": "execute_result"
    }
   ],
   "source": [
    "train_file.columns"
   ]
  },
  {
   "cell_type": "code",
   "execution_count": 7,
   "id": "2c52216d",
   "metadata": {
    "execution": {
     "iopub.execute_input": "2022-09-23T19:13:49.446457Z",
     "iopub.status.busy": "2022-09-23T19:13:49.444925Z",
     "iopub.status.idle": "2022-09-23T19:13:49.450836Z",
     "shell.execute_reply": "2022-09-23T19:13:49.449838Z"
    },
    "papermill": {
     "duration": 0.014685,
     "end_time": "2022-09-23T19:13:49.452986",
     "exception": false,
     "start_time": "2022-09-23T19:13:49.438301",
     "status": "completed"
    },
    "tags": []
   },
   "outputs": [],
   "source": [
    "labels=['cohesion', 'syntax', 'vocabulary','phraseology', 'grammar', 'conventions']\n",
    "id2label = {idx:label for idx, label in enumerate(labels)}\n",
    "label2id = {label:idx for idx, label in enumerate(labels)}"
   ]
  },
  {
   "cell_type": "code",
   "execution_count": 8,
   "id": "1d36d315",
   "metadata": {
    "execution": {
     "iopub.execute_input": "2022-09-23T19:13:49.465744Z",
     "iopub.status.busy": "2022-09-23T19:13:49.464888Z",
     "iopub.status.idle": "2022-09-23T19:13:49.469819Z",
     "shell.execute_reply": "2022-09-23T19:13:49.469015Z"
    },
    "papermill": {
     "duration": 0.013638,
     "end_time": "2022-09-23T19:13:49.471879",
     "exception": false,
     "start_time": "2022-09-23T19:13:49.458241",
     "status": "completed"
    },
    "tags": []
   },
   "outputs": [],
   "source": [
    "# from transformers import AutoTokenizer\n",
    "# import numpy as np\n",
    "\n",
    "# tokenizer = AutoTokenizer.from_pretrained(\"bert-base-uncased\")\n",
    "\n",
    "# def preprocess_data(examples):\n",
    "#   # take a batch of texts\n",
    "#     text = train_file[\"full_text\"]\n",
    "#     # encode them\n",
    "#     encoding = tokenizer(text, padding=\"max_length\", truncation=True, max_length=128)\n",
    "#     # add labels\n",
    "#     labels_batch = {k: examples[k] for k in examples.keys() if k in labels}\n",
    "#     # create numpy array of shape (batch_size, num_labels)\n",
    "#     labels_matrix = np.zeros((len(text), len(labels)))\n",
    "#     # fill numpy array\n",
    "#     for idx, label in enumerate(labels):\n",
    "#         labels_matrix[:, idx] = labels_batch[label]\n",
    "#         encoding[\"labels\"] = labels_matrix.tolist()\n",
    "\n",
    "#     return encoding"
   ]
  },
  {
   "cell_type": "code",
   "execution_count": 9,
   "id": "d56e0775",
   "metadata": {
    "execution": {
     "iopub.execute_input": "2022-09-23T19:13:49.484238Z",
     "iopub.status.busy": "2022-09-23T19:13:49.483444Z",
     "iopub.status.idle": "2022-09-23T19:13:49.488138Z",
     "shell.execute_reply": "2022-09-23T19:13:49.487331Z"
    },
    "papermill": {
     "duration": 0.012916,
     "end_time": "2022-09-23T19:13:49.490068",
     "exception": false,
     "start_time": "2022-09-23T19:13:49.477152",
     "status": "completed"
    },
    "tags": []
   },
   "outputs": [],
   "source": [
    "# MODEL_MAX_LENGTH=160\n",
    "\n",
    "# def bert_encode(data,maximum_length) :\n",
    "#     input_ids = []\n",
    "#     attention_masks = []\n",
    "  \n",
    "\n",
    "#     for i in range(len(data.full_text)):\n",
    "#         encoded = tokenizer.encode_plus(\n",
    "\n",
    "#         data.full_text[i],\n",
    "#         add_special_tokens=True,\n",
    "#         max_length=maximum_length,\n",
    "#         pad_to_max_length=True,\n",
    "\n",
    "#         return_attention_mask=True,\n",
    "\n",
    "#         )\n",
    "\n",
    "#         input_ids.append(encoded['input_ids'])\n",
    "#         attention_masks.append(encoded['attention_mask'])\n",
    "        \n",
    "#     return np.array(input_ids),np.array(attention_masks)\n",
    "\n",
    "# train_input_ids,train_attention_masks = bert_encode(train_file[['full_text']],MODEL_MAX_LENGTH)\n",
    "# test_input_ids,test_attention_masks = bert_encode(test_file[['full_text']],MODEL_MAX_LENGTH)"
   ]
  },
  {
   "cell_type": "code",
   "execution_count": 10,
   "id": "8b514445",
   "metadata": {
    "execution": {
     "iopub.execute_input": "2022-09-23T19:13:49.502818Z",
     "iopub.status.busy": "2022-09-23T19:13:49.501279Z",
     "iopub.status.idle": "2022-09-23T19:13:49.505837Z",
     "shell.execute_reply": "2022-09-23T19:13:49.504954Z"
    },
    "papermill": {
     "duration": 0.012433,
     "end_time": "2022-09-23T19:13:49.507757",
     "exception": false,
     "start_time": "2022-09-23T19:13:49.495324",
     "status": "completed"
    },
    "tags": []
   },
   "outputs": [],
   "source": [
    "# from transformers import AutoModel\n",
    "# model = AutoModel.from_pretrained(\"bert-base-uncased\", num_labels=6)"
   ]
  },
  {
   "cell_type": "code",
   "execution_count": 11,
   "id": "eca1b76b",
   "metadata": {
    "execution": {
     "iopub.execute_input": "2022-09-23T19:13:49.519061Z",
     "iopub.status.busy": "2022-09-23T19:13:49.518798Z",
     "iopub.status.idle": "2022-09-23T19:13:52.694805Z",
     "shell.execute_reply": "2022-09-23T19:13:52.693838Z"
    },
    "papermill": {
     "duration": 3.184399,
     "end_time": "2022-09-23T19:13:52.697283",
     "exception": false,
     "start_time": "2022-09-23T19:13:49.512884",
     "status": "completed"
    },
    "tags": []
   },
   "outputs": [
    {
     "data": {
      "text/html": [
       "<style type='text/css'>\n",
       ".datatable table.frame { margin-bottom: 0; }\n",
       ".datatable table.frame thead { border-bottom: none; }\n",
       ".datatable table.frame tr.coltypes td {  color: #FFFFFF;  line-height: 6px;  padding: 0 0.5em;}\n",
       ".datatable .bool    { background: #DDDD99; }\n",
       ".datatable .object  { background: #565656; }\n",
       ".datatable .int     { background: #5D9E5D; }\n",
       ".datatable .float   { background: #4040CC; }\n",
       ".datatable .str     { background: #CC4040; }\n",
       ".datatable .time    { background: #40CC40; }\n",
       ".datatable .row_index {  background: var(--jp-border-color3);  border-right: 1px solid var(--jp-border-color0);  color: var(--jp-ui-font-color3);  font-size: 9px;}\n",
       ".datatable .frame tbody td { text-align: left; }\n",
       ".datatable .frame tr.coltypes .row_index {  background: var(--jp-border-color0);}\n",
       ".datatable th:nth-child(2) { padding-left: 12px; }\n",
       ".datatable .hellipsis {  color: var(--jp-cell-editor-border-color);}\n",
       ".datatable .vellipsis {  background: var(--jp-layout-color0);  color: var(--jp-cell-editor-border-color);}\n",
       ".datatable .na {  color: var(--jp-cell-editor-border-color);  font-size: 80%;}\n",
       ".datatable .sp {  opacity: 0.25;}\n",
       ".datatable .footer { font-size: 9px; }\n",
       ".datatable .frame_dimensions {  background: var(--jp-border-color3);  border-top: 1px solid var(--jp-border-color0);  color: var(--jp-ui-font-color3);  display: inline-block;  opacity: 0.6;  padding: 1px 10px 1px 5px;}\n",
       "</style>\n"
      ],
      "text/plain": [
       "<IPython.core.display.HTML object>"
      ]
     },
     "metadata": {},
     "output_type": "display_data"
    }
   ],
   "source": [
    "from lightgbm import LGBMRegressor\n",
    "from sklearn.multioutput import MultiOutputRegressor"
   ]
  },
  {
   "cell_type": "code",
   "execution_count": 12,
   "id": "283804d4",
   "metadata": {
    "execution": {
     "iopub.execute_input": "2022-09-23T19:13:52.710626Z",
     "iopub.status.busy": "2022-09-23T19:13:52.710294Z",
     "iopub.status.idle": "2022-09-23T19:13:53.701890Z",
     "shell.execute_reply": "2022-09-23T19:13:53.700768Z"
    },
    "papermill": {
     "duration": 1.000651,
     "end_time": "2022-09-23T19:13:53.704774",
     "exception": false,
     "start_time": "2022-09-23T19:13:52.704123",
     "status": "completed"
    },
    "tags": []
   },
   "outputs": [],
   "source": [
    "from sklearn.feature_extraction.text import TfidfVectorizer\n",
    "\n",
    "vectorizer = TfidfVectorizer()\n",
    "X_train = vectorizer.fit_transform(train_file['full_text'])\n",
    "X_test = vectorizer.transform(test_file['full_text'])"
   ]
  },
  {
   "cell_type": "code",
   "execution_count": 13,
   "id": "d766061c",
   "metadata": {
    "execution": {
     "iopub.execute_input": "2022-09-23T19:13:53.721719Z",
     "iopub.status.busy": "2022-09-23T19:13:53.721354Z",
     "iopub.status.idle": "2022-09-23T19:13:53.730264Z",
     "shell.execute_reply": "2022-09-23T19:13:53.729273Z"
    },
    "papermill": {
     "duration": 0.019234,
     "end_time": "2022-09-23T19:13:53.732593",
     "exception": false,
     "start_time": "2022-09-23T19:13:53.713359",
     "status": "completed"
    },
    "tags": []
   },
   "outputs": [],
   "source": [
    "y=train_file[['cohesion','syntax','vocabulary','phraseology','grammar','conventions']]\n",
    "# y_test=test_file[['cohesion','syntax','vocabulary','phraseology','grammar','conventions']]"
   ]
  },
  {
   "cell_type": "code",
   "execution_count": 14,
   "id": "6cb4a2c0",
   "metadata": {
    "execution": {
     "iopub.execute_input": "2022-09-23T19:13:53.746334Z",
     "iopub.status.busy": "2022-09-23T19:13:53.745594Z",
     "iopub.status.idle": "2022-09-23T19:13:53.750588Z",
     "shell.execute_reply": "2022-09-23T19:13:53.749788Z"
    },
    "papermill": {
     "duration": 0.013966,
     "end_time": "2022-09-23T19:13:53.752499",
     "exception": false,
     "start_time": "2022-09-23T19:13:53.738533",
     "status": "completed"
    },
    "tags": []
   },
   "outputs": [],
   "source": [
    "params_lgb = {\n",
    "    \"n_estimators\": 1000,\n",
    "    \"verbose\": -1\n",
    "}"
   ]
  },
  {
   "cell_type": "code",
   "execution_count": 15,
   "id": "732d0459",
   "metadata": {
    "execution": {
     "iopub.execute_input": "2022-09-23T19:13:53.765000Z",
     "iopub.status.busy": "2022-09-23T19:13:53.763647Z",
     "iopub.status.idle": "2022-09-23T19:17:51.461021Z",
     "shell.execute_reply": "2022-09-23T19:17:51.460025Z"
    },
    "papermill": {
     "duration": 237.710226,
     "end_time": "2022-09-23T19:17:51.467774",
     "exception": false,
     "start_time": "2022-09-23T19:13:53.757548",
     "status": "completed"
    },
    "tags": []
   },
   "outputs": [
    {
     "data": {
      "text/plain": [
       "MultiOutputRegressor(estimator=LGBMRegressor(n_estimators=1000, verbose=-1))"
      ]
     },
     "execution_count": 15,
     "metadata": {},
     "output_type": "execute_result"
    }
   ],
   "source": [
    "model = MultiOutputRegressor(LGBMRegressor(**params_lgb))\n",
    "model.fit(X_train, y)"
   ]
  },
  {
   "cell_type": "code",
   "execution_count": 16,
   "id": "96e05cd8",
   "metadata": {
    "execution": {
     "iopub.execute_input": "2022-09-23T19:17:51.479992Z",
     "iopub.status.busy": "2022-09-23T19:17:51.479092Z",
     "iopub.status.idle": "2022-09-23T19:17:51.491009Z",
     "shell.execute_reply": "2022-09-23T19:17:51.490338Z"
    },
    "papermill": {
     "duration": 0.020039,
     "end_time": "2022-09-23T19:17:51.492948",
     "exception": false,
     "start_time": "2022-09-23T19:17:51.472909",
     "status": "completed"
    },
    "tags": []
   },
   "outputs": [],
   "source": [
    "test_preds = model.predict(X_test)"
   ]
  },
  {
   "cell_type": "code",
   "execution_count": 17,
   "id": "1e8bea1b",
   "metadata": {
    "execution": {
     "iopub.execute_input": "2022-09-23T19:17:51.506803Z",
     "iopub.status.busy": "2022-09-23T19:17:51.505959Z",
     "iopub.status.idle": "2022-09-23T19:17:51.515398Z",
     "shell.execute_reply": "2022-09-23T19:17:51.514580Z"
    },
    "papermill": {
     "duration": 0.01822,
     "end_time": "2022-09-23T19:17:51.517132",
     "exception": false,
     "start_time": "2022-09-23T19:17:51.498912",
     "status": "completed"
    },
    "tags": []
   },
   "outputs": [
    {
     "data": {
      "text/html": [
       "<div>\n",
       "<style scoped>\n",
       "    .dataframe tbody tr th:only-of-type {\n",
       "        vertical-align: middle;\n",
       "    }\n",
       "\n",
       "    .dataframe tbody tr th {\n",
       "        vertical-align: top;\n",
       "    }\n",
       "\n",
       "    .dataframe thead th {\n",
       "        text-align: right;\n",
       "    }\n",
       "</style>\n",
       "<table border=\"1\" class=\"dataframe\">\n",
       "  <thead>\n",
       "    <tr style=\"text-align: right;\">\n",
       "      <th></th>\n",
       "      <th>text_id</th>\n",
       "      <th>full_text</th>\n",
       "    </tr>\n",
       "  </thead>\n",
       "  <tbody>\n",
       "    <tr>\n",
       "      <th>0</th>\n",
       "      <td>0000C359D63E</td>\n",
       "      <td>when a person has no experience on a job their...</td>\n",
       "    </tr>\n",
       "    <tr>\n",
       "      <th>1</th>\n",
       "      <td>000BAD50D026</td>\n",
       "      <td>Do you think students would benefit from being...</td>\n",
       "    </tr>\n",
       "    <tr>\n",
       "      <th>2</th>\n",
       "      <td>00367BB2546B</td>\n",
       "      <td>Thomas Jefferson once states that \"it is wonde...</td>\n",
       "    </tr>\n",
       "  </tbody>\n",
       "</table>\n",
       "</div>"
      ],
      "text/plain": [
       "        text_id                                          full_text\n",
       "0  0000C359D63E  when a person has no experience on a job their...\n",
       "1  000BAD50D026  Do you think students would benefit from being...\n",
       "2  00367BB2546B  Thomas Jefferson once states that \"it is wonde..."
      ]
     },
     "execution_count": 17,
     "metadata": {},
     "output_type": "execute_result"
    }
   ],
   "source": [
    "test_file.head()"
   ]
  },
  {
   "cell_type": "code",
   "execution_count": 18,
   "id": "88276244",
   "metadata": {
    "execution": {
     "iopub.execute_input": "2022-09-23T19:17:51.529312Z",
     "iopub.status.busy": "2022-09-23T19:17:51.528820Z",
     "iopub.status.idle": "2022-09-23T19:17:51.550223Z",
     "shell.execute_reply": "2022-09-23T19:17:51.549187Z"
    },
    "papermill": {
     "duration": 0.030013,
     "end_time": "2022-09-23T19:17:51.552365",
     "exception": false,
     "start_time": "2022-09-23T19:17:51.522352",
     "status": "completed"
    },
    "tags": []
   },
   "outputs": [
    {
     "data": {
      "text/html": [
       "<div>\n",
       "<style scoped>\n",
       "    .dataframe tbody tr th:only-of-type {\n",
       "        vertical-align: middle;\n",
       "    }\n",
       "\n",
       "    .dataframe tbody tr th {\n",
       "        vertical-align: top;\n",
       "    }\n",
       "\n",
       "    .dataframe thead th {\n",
       "        text-align: right;\n",
       "    }\n",
       "</style>\n",
       "<table border=\"1\" class=\"dataframe\">\n",
       "  <thead>\n",
       "    <tr style=\"text-align: right;\">\n",
       "      <th></th>\n",
       "      <th>text_id</th>\n",
       "      <th>cohesion</th>\n",
       "      <th>syntax</th>\n",
       "      <th>vocabulary</th>\n",
       "      <th>phraseology</th>\n",
       "      <th>grammar</th>\n",
       "      <th>conventions</th>\n",
       "    </tr>\n",
       "  </thead>\n",
       "  <tbody>\n",
       "    <tr>\n",
       "      <th>0</th>\n",
       "      <td>0000C359D63E</td>\n",
       "      <td>3.0</td>\n",
       "      <td>3.0</td>\n",
       "      <td>3.0</td>\n",
       "      <td>3.0</td>\n",
       "      <td>3.0</td>\n",
       "      <td>3.0</td>\n",
       "    </tr>\n",
       "    <tr>\n",
       "      <th>1</th>\n",
       "      <td>000BAD50D026</td>\n",
       "      <td>3.0</td>\n",
       "      <td>3.0</td>\n",
       "      <td>3.0</td>\n",
       "      <td>3.0</td>\n",
       "      <td>3.0</td>\n",
       "      <td>3.0</td>\n",
       "    </tr>\n",
       "    <tr>\n",
       "      <th>2</th>\n",
       "      <td>00367BB2546B</td>\n",
       "      <td>3.0</td>\n",
       "      <td>3.0</td>\n",
       "      <td>3.0</td>\n",
       "      <td>3.0</td>\n",
       "      <td>3.0</td>\n",
       "      <td>3.0</td>\n",
       "    </tr>\n",
       "  </tbody>\n",
       "</table>\n",
       "</div>"
      ],
      "text/plain": [
       "        text_id  cohesion  syntax  vocabulary  phraseology  grammar  \\\n",
       "0  0000C359D63E       3.0     3.0         3.0          3.0      3.0   \n",
       "1  000BAD50D026       3.0     3.0         3.0          3.0      3.0   \n",
       "2  00367BB2546B       3.0     3.0         3.0          3.0      3.0   \n",
       "\n",
       "   conventions  \n",
       "0          3.0  \n",
       "1          3.0  \n",
       "2          3.0  "
      ]
     },
     "execution_count": 18,
     "metadata": {},
     "output_type": "execute_result"
    }
   ],
   "source": [
    "sample = pd.read_csv('../input/feedback-prize-english-language-learning/sample_submission.csv')\n",
    "sample.head()"
   ]
  },
  {
   "cell_type": "code",
   "execution_count": 19,
   "id": "b4d78e3d",
   "metadata": {
    "execution": {
     "iopub.execute_input": "2022-09-23T19:17:51.565447Z",
     "iopub.status.busy": "2022-09-23T19:17:51.564665Z",
     "iopub.status.idle": "2022-09-23T19:17:51.570727Z",
     "shell.execute_reply": "2022-09-23T19:17:51.569931Z"
    },
    "papermill": {
     "duration": 0.014459,
     "end_time": "2022-09-23T19:17:51.572636",
     "exception": false,
     "start_time": "2022-09-23T19:17:51.558177",
     "status": "completed"
    },
    "tags": []
   },
   "outputs": [],
   "source": [
    "sample['cohesion']=test_preds[:,0]\n",
    "sample['syntax']=test_preds[:,1]\n",
    "sample['vocabulary']=test_preds[:,2]\n",
    "sample['phraseology']=test_preds[:,3]\n",
    "sample['grammar']=test_preds[:,4]\n",
    "sample['conventions']=test_preds[:,5]"
   ]
  },
  {
   "cell_type": "code",
   "execution_count": null,
   "id": "2bdc5ddc",
   "metadata": {
    "papermill": {
     "duration": 0.005448,
     "end_time": "2022-09-23T19:17:51.583560",
     "exception": false,
     "start_time": "2022-09-23T19:17:51.578112",
     "status": "completed"
    },
    "tags": []
   },
   "outputs": [],
   "source": []
  },
  {
   "cell_type": "code",
   "execution_count": 20,
   "id": "c4f749c2",
   "metadata": {
    "execution": {
     "iopub.execute_input": "2022-09-23T19:17:51.597158Z",
     "iopub.status.busy": "2022-09-23T19:17:51.595641Z",
     "iopub.status.idle": "2022-09-23T19:17:51.603063Z",
     "shell.execute_reply": "2022-09-23T19:17:51.602035Z"
    },
    "papermill": {
     "duration": 0.015982,
     "end_time": "2022-09-23T19:17:51.605224",
     "exception": false,
     "start_time": "2022-09-23T19:17:51.589242",
     "status": "completed"
    },
    "tags": []
   },
   "outputs": [],
   "source": [
    "sample.to_csv('submission.csv',index=False)"
   ]
  },
  {
   "cell_type": "code",
   "execution_count": null,
   "id": "2f9ca86e",
   "metadata": {
    "papermill": {
     "duration": 0.005273,
     "end_time": "2022-09-23T19:17:51.615840",
     "exception": false,
     "start_time": "2022-09-23T19:17:51.610567",
     "status": "completed"
    },
    "tags": []
   },
   "outputs": [],
   "source": []
  }
 ],
 "metadata": {
  "kernelspec": {
   "display_name": "Python 3",
   "language": "python",
   "name": "python3"
  },
  "language_info": {
   "codemirror_mode": {
    "name": "ipython",
    "version": 3
   },
   "file_extension": ".py",
   "mimetype": "text/x-python",
   "name": "python",
   "nbconvert_exporter": "python",
   "pygments_lexer": "ipython3",
   "version": "3.7.12"
  },
  "papermill": {
   "default_parameters": {},
   "duration": 251.516922,
   "end_time": "2022-09-23T19:17:52.542261",
   "environment_variables": {},
   "exception": null,
   "input_path": "__notebook__.ipynb",
   "output_path": "__notebook__.ipynb",
   "parameters": {},
   "start_time": "2022-09-23T19:13:41.025339",
   "version": "2.3.4"
  }
 },
 "nbformat": 4,
 "nbformat_minor": 5
}
