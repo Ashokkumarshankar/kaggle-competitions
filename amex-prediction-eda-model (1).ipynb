{
 "cells": [
  {
   "cell_type": "code",
   "execution_count": 1,
   "id": "e3ab0b43",
   "metadata": {
    "_cell_guid": "b1076dfc-b9ad-4769-8c92-a6c4dae69d19",
    "_uuid": "8f2839f25d086af736a60e9eeb907d3b93b6e0e5",
    "execution": {
     "iopub.execute_input": "2022-08-24T21:09:19.011927Z",
     "iopub.status.busy": "2022-08-24T21:09:19.011569Z",
     "iopub.status.idle": "2022-08-24T21:09:19.025294Z",
     "shell.execute_reply": "2022-08-24T21:09:19.023734Z"
    },
    "papermill": {
     "duration": 0.026035,
     "end_time": "2022-08-24T21:09:19.027846",
     "exception": false,
     "start_time": "2022-08-24T21:09:19.001811",
     "status": "completed"
    },
    "tags": []
   },
   "outputs": [
    {
     "name": "stdout",
     "output_type": "stream",
     "text": [
      "/kaggle/input/amex-default-prediction/sample_submission.csv\n",
      "/kaggle/input/amex-default-prediction/train_data.csv\n",
      "/kaggle/input/amex-default-prediction/test_data.csv\n",
      "/kaggle/input/amex-default-prediction/train_labels.csv\n"
     ]
    }
   ],
   "source": [
    "# This Python 3 environment comes with many helpful analytics libraries installed\n",
    "# It is defined by the kaggle/python Docker image: https://github.com/kaggle/docker-python\n",
    "# For example, here's several helpful packages to load\n",
    "\n",
    "import numpy as np # linear algebra\n",
    "import pandas as pd # data processing, CSV file I/O (e.g. pd.read_csv)\n",
    "\n",
    "# Input data files are available in the read-only \"../input/\" directory\n",
    "# For example, running this (by clicking run or pressing Shift+Enter) will list all files under the input directory\n",
    "\n",
    "import os\n",
    "for dirname, _, filenames in os.walk('/kaggle/input'):\n",
    "    for filename in filenames:\n",
    "        print(os.path.join(dirname, filename))\n",
    "\n",
    "# You can write up to 20GB to the current directory (/kaggle/working/) that gets preserved as output when you create a version using \"Save & Run All\" \n",
    "# You can also write temporary files to /kaggle/temp/, but they won't be saved outside of the current session"
   ]
  },
  {
   "cell_type": "code",
   "execution_count": 2,
   "id": "1dc35e12",
   "metadata": {
    "execution": {
     "iopub.execute_input": "2022-08-24T21:09:19.044979Z",
     "iopub.status.busy": "2022-08-24T21:09:19.044704Z",
     "iopub.status.idle": "2022-08-24T21:09:20.082271Z",
     "shell.execute_reply": "2022-08-24T21:09:20.081298Z"
    },
    "papermill": {
     "duration": 1.048537,
     "end_time": "2022-08-24T21:09:20.084694",
     "exception": false,
     "start_time": "2022-08-24T21:09:19.036157",
     "status": "completed"
    },
    "tags": []
   },
   "outputs": [],
   "source": [
    "import pandas as pd\n",
    "import matplotlib.pyplot as plt\n",
    "import seaborn as sns"
   ]
  },
  {
   "cell_type": "code",
   "execution_count": 3,
   "id": "b0bb19c7",
   "metadata": {
    "execution": {
     "iopub.execute_input": "2022-08-24T21:09:20.101520Z",
     "iopub.status.busy": "2022-08-24T21:09:20.101064Z",
     "iopub.status.idle": "2022-08-24T21:09:20.501176Z",
     "shell.execute_reply": "2022-08-24T21:09:20.500117Z"
    },
    "papermill": {
     "duration": 0.411258,
     "end_time": "2022-08-24T21:09:20.503463",
     "exception": false,
     "start_time": "2022-08-24T21:09:20.092205",
     "status": "completed"
    },
    "tags": []
   },
   "outputs": [],
   "source": [
    "import sklearn\n",
    "from sklearn.model_selection import train_test_split, RandomizedSearchCV\n",
    "from sklearn.pipeline import Pipeline\n",
    "from sklearn.ensemble import RandomForestClassifier\n",
    "from sklearn.impute import SimpleImputer\n",
    "from sklearn.preprocessing import StandardScaler, OneHotEncoder\n",
    "from sklearn.compose import ColumnTransformer"
   ]
  },
  {
   "cell_type": "code",
   "execution_count": 4,
   "id": "55399f95",
   "metadata": {
    "execution": {
     "iopub.execute_input": "2022-08-24T21:09:20.520376Z",
     "iopub.status.busy": "2022-08-24T21:09:20.520064Z",
     "iopub.status.idle": "2022-08-24T21:09:21.091878Z",
     "shell.execute_reply": "2022-08-24T21:09:21.090812Z"
    },
    "papermill": {
     "duration": 0.583042,
     "end_time": "2022-08-24T21:09:21.094159",
     "exception": false,
     "start_time": "2022-08-24T21:09:20.511117",
     "status": "completed"
    },
    "tags": []
   },
   "outputs": [],
   "source": [
    "train_df_sample_1k=pd.read_csv('/kaggle/input/amex-default-prediction/train_data.csv',nrows=10000)"
   ]
  },
  {
   "cell_type": "code",
   "execution_count": 5,
   "id": "0f0826ff",
   "metadata": {
    "execution": {
     "iopub.execute_input": "2022-08-24T21:09:21.111141Z",
     "iopub.status.busy": "2022-08-24T21:09:21.110218Z",
     "iopub.status.idle": "2022-08-24T21:09:21.640497Z",
     "shell.execute_reply": "2022-08-24T21:09:21.639536Z"
    },
    "papermill": {
     "duration": 0.540907,
     "end_time": "2022-08-24T21:09:21.642722",
     "exception": false,
     "start_time": "2022-08-24T21:09:21.101815",
     "status": "completed"
    },
    "tags": []
   },
   "outputs": [],
   "source": [
    "test_df_sample_1k=pd.read_csv('/kaggle/input/amex-default-prediction/test_data.csv',nrows=10000)"
   ]
  },
  {
   "cell_type": "code",
   "execution_count": 6,
   "id": "ce506118",
   "metadata": {
    "execution": {
     "iopub.execute_input": "2022-08-24T21:09:21.660055Z",
     "iopub.status.busy": "2022-08-24T21:09:21.659744Z",
     "iopub.status.idle": "2022-08-24T21:09:22.403573Z",
     "shell.execute_reply": "2022-08-24T21:09:22.402413Z"
    },
    "papermill": {
     "duration": 0.755271,
     "end_time": "2022-08-24T21:09:22.405648",
     "exception": false,
     "start_time": "2022-08-24T21:09:21.650377",
     "status": "completed"
    },
    "tags": []
   },
   "outputs": [],
   "source": [
    "train_labels=pd.read_csv('/kaggle/input/amex-default-prediction/train_labels.csv')"
   ]
  },
  {
   "cell_type": "code",
   "execution_count": 7,
   "id": "cb73aea4",
   "metadata": {
    "execution": {
     "iopub.execute_input": "2022-08-24T21:09:22.422588Z",
     "iopub.status.busy": "2022-08-24T21:09:22.421462Z",
     "iopub.status.idle": "2022-08-24T21:09:22.430522Z",
     "shell.execute_reply": "2022-08-24T21:09:22.429102Z"
    },
    "papermill": {
     "duration": 0.019276,
     "end_time": "2022-08-24T21:09:22.432441",
     "exception": false,
     "start_time": "2022-08-24T21:09:22.413165",
     "status": "completed"
    },
    "tags": []
   },
   "outputs": [
    {
     "data": {
      "text/plain": [
       "(458913, 2)"
      ]
     },
     "execution_count": 7,
     "metadata": {},
     "output_type": "execute_result"
    }
   ],
   "source": [
    "train_labels.shape"
   ]
  },
  {
   "cell_type": "code",
   "execution_count": 8,
   "id": "55fb2165",
   "metadata": {
    "execution": {
     "iopub.execute_input": "2022-08-24T21:09:22.449026Z",
     "iopub.status.busy": "2022-08-24T21:09:22.448731Z",
     "iopub.status.idle": "2022-08-24T21:09:22.463789Z",
     "shell.execute_reply": "2022-08-24T21:09:22.462538Z"
    },
    "papermill": {
     "duration": 0.025051,
     "end_time": "2022-08-24T21:09:22.465611",
     "exception": false,
     "start_time": "2022-08-24T21:09:22.440560",
     "status": "completed"
    },
    "tags": []
   },
   "outputs": [
    {
     "data": {
      "text/html": [
       "<div>\n",
       "<style scoped>\n",
       "    .dataframe tbody tr th:only-of-type {\n",
       "        vertical-align: middle;\n",
       "    }\n",
       "\n",
       "    .dataframe tbody tr th {\n",
       "        vertical-align: top;\n",
       "    }\n",
       "\n",
       "    .dataframe thead th {\n",
       "        text-align: right;\n",
       "    }\n",
       "</style>\n",
       "<table border=\"1\" class=\"dataframe\">\n",
       "  <thead>\n",
       "    <tr style=\"text-align: right;\">\n",
       "      <th></th>\n",
       "      <th>customer_ID</th>\n",
       "      <th>target</th>\n",
       "    </tr>\n",
       "  </thead>\n",
       "  <tbody>\n",
       "    <tr>\n",
       "      <th>0</th>\n",
       "      <td>0000099d6bd597052cdcda90ffabf56573fe9d7c79be5f...</td>\n",
       "      <td>0</td>\n",
       "    </tr>\n",
       "    <tr>\n",
       "      <th>1</th>\n",
       "      <td>00000fd6641609c6ece5454664794f0340ad84dddce9a2...</td>\n",
       "      <td>0</td>\n",
       "    </tr>\n",
       "  </tbody>\n",
       "</table>\n",
       "</div>"
      ],
      "text/plain": [
       "                                         customer_ID  target\n",
       "0  0000099d6bd597052cdcda90ffabf56573fe9d7c79be5f...       0\n",
       "1  00000fd6641609c6ece5454664794f0340ad84dddce9a2...       0"
      ]
     },
     "execution_count": 8,
     "metadata": {},
     "output_type": "execute_result"
    }
   ],
   "source": [
    "train_labels.head(2)"
   ]
  },
  {
   "cell_type": "code",
   "execution_count": 9,
   "id": "820a5598",
   "metadata": {
    "execution": {
     "iopub.execute_input": "2022-08-24T21:09:22.483184Z",
     "iopub.status.busy": "2022-08-24T21:09:22.482853Z",
     "iopub.status.idle": "2022-08-24T21:09:22.508902Z",
     "shell.execute_reply": "2022-08-24T21:09:22.508011Z"
    },
    "papermill": {
     "duration": 0.036367,
     "end_time": "2022-08-24T21:09:22.510643",
     "exception": false,
     "start_time": "2022-08-24T21:09:22.474276",
     "status": "completed"
    },
    "tags": []
   },
   "outputs": [
    {
     "data": {
      "text/html": [
       "<div>\n",
       "<style scoped>\n",
       "    .dataframe tbody tr th:only-of-type {\n",
       "        vertical-align: middle;\n",
       "    }\n",
       "\n",
       "    .dataframe tbody tr th {\n",
       "        vertical-align: top;\n",
       "    }\n",
       "\n",
       "    .dataframe thead th {\n",
       "        text-align: right;\n",
       "    }\n",
       "</style>\n",
       "<table border=\"1\" class=\"dataframe\">\n",
       "  <thead>\n",
       "    <tr style=\"text-align: right;\">\n",
       "      <th></th>\n",
       "      <th>customer_ID</th>\n",
       "      <th>S_2</th>\n",
       "      <th>P_2</th>\n",
       "      <th>D_39</th>\n",
       "      <th>B_1</th>\n",
       "      <th>B_2</th>\n",
       "      <th>R_1</th>\n",
       "      <th>S_3</th>\n",
       "      <th>D_41</th>\n",
       "      <th>B_3</th>\n",
       "      <th>...</th>\n",
       "      <th>D_136</th>\n",
       "      <th>D_137</th>\n",
       "      <th>D_138</th>\n",
       "      <th>D_139</th>\n",
       "      <th>D_140</th>\n",
       "      <th>D_141</th>\n",
       "      <th>D_142</th>\n",
       "      <th>D_143</th>\n",
       "      <th>D_144</th>\n",
       "      <th>D_145</th>\n",
       "    </tr>\n",
       "  </thead>\n",
       "  <tbody>\n",
       "    <tr>\n",
       "      <th>0</th>\n",
       "      <td>0000099d6bd597052cdcda90ffabf56573fe9d7c79be5f...</td>\n",
       "      <td>2017-03-09</td>\n",
       "      <td>0.938469</td>\n",
       "      <td>0.001733</td>\n",
       "      <td>0.008724</td>\n",
       "      <td>1.006838</td>\n",
       "      <td>0.009228</td>\n",
       "      <td>0.124035</td>\n",
       "      <td>0.008771</td>\n",
       "      <td>0.004709</td>\n",
       "      <td>...</td>\n",
       "      <td>NaN</td>\n",
       "      <td>NaN</td>\n",
       "      <td>NaN</td>\n",
       "      <td>0.002427</td>\n",
       "      <td>0.003706</td>\n",
       "      <td>0.003818</td>\n",
       "      <td>NaN</td>\n",
       "      <td>0.000569</td>\n",
       "      <td>0.000610</td>\n",
       "      <td>0.002674</td>\n",
       "    </tr>\n",
       "    <tr>\n",
       "      <th>1</th>\n",
       "      <td>0000099d6bd597052cdcda90ffabf56573fe9d7c79be5f...</td>\n",
       "      <td>2017-04-07</td>\n",
       "      <td>0.936665</td>\n",
       "      <td>0.005775</td>\n",
       "      <td>0.004923</td>\n",
       "      <td>1.000653</td>\n",
       "      <td>0.006151</td>\n",
       "      <td>0.126750</td>\n",
       "      <td>0.000798</td>\n",
       "      <td>0.002714</td>\n",
       "      <td>...</td>\n",
       "      <td>NaN</td>\n",
       "      <td>NaN</td>\n",
       "      <td>NaN</td>\n",
       "      <td>0.003954</td>\n",
       "      <td>0.003167</td>\n",
       "      <td>0.005032</td>\n",
       "      <td>NaN</td>\n",
       "      <td>0.009576</td>\n",
       "      <td>0.005492</td>\n",
       "      <td>0.009217</td>\n",
       "    </tr>\n",
       "  </tbody>\n",
       "</table>\n",
       "<p>2 rows × 190 columns</p>\n",
       "</div>"
      ],
      "text/plain": [
       "                                         customer_ID         S_2       P_2  \\\n",
       "0  0000099d6bd597052cdcda90ffabf56573fe9d7c79be5f...  2017-03-09  0.938469   \n",
       "1  0000099d6bd597052cdcda90ffabf56573fe9d7c79be5f...  2017-04-07  0.936665   \n",
       "\n",
       "       D_39       B_1       B_2       R_1       S_3      D_41       B_3  ...  \\\n",
       "0  0.001733  0.008724  1.006838  0.009228  0.124035  0.008771  0.004709  ...   \n",
       "1  0.005775  0.004923  1.000653  0.006151  0.126750  0.000798  0.002714  ...   \n",
       "\n",
       "   D_136  D_137  D_138     D_139     D_140     D_141  D_142     D_143  \\\n",
       "0    NaN    NaN    NaN  0.002427  0.003706  0.003818    NaN  0.000569   \n",
       "1    NaN    NaN    NaN  0.003954  0.003167  0.005032    NaN  0.009576   \n",
       "\n",
       "      D_144     D_145  \n",
       "0  0.000610  0.002674  \n",
       "1  0.005492  0.009217  \n",
       "\n",
       "[2 rows x 190 columns]"
      ]
     },
     "execution_count": 9,
     "metadata": {},
     "output_type": "execute_result"
    }
   ],
   "source": [
    "train_df_sample_1k.head(2)"
   ]
  },
  {
   "cell_type": "code",
   "execution_count": 10,
   "id": "4d11d5a3",
   "metadata": {
    "execution": {
     "iopub.execute_input": "2022-08-24T21:09:22.528898Z",
     "iopub.status.busy": "2022-08-24T21:09:22.527306Z",
     "iopub.status.idle": "2022-08-24T21:09:22.535376Z",
     "shell.execute_reply": "2022-08-24T21:09:22.534375Z"
    },
    "papermill": {
     "duration": 0.018346,
     "end_time": "2022-08-24T21:09:22.536954",
     "exception": false,
     "start_time": "2022-08-24T21:09:22.518608",
     "status": "completed"
    },
    "tags": []
   },
   "outputs": [
    {
     "data": {
      "text/plain": [
       "(10000, 190)"
      ]
     },
     "execution_count": 10,
     "metadata": {},
     "output_type": "execute_result"
    }
   ],
   "source": [
    "train_df_sample_1k.shape"
   ]
  },
  {
   "cell_type": "code",
   "execution_count": 11,
   "id": "22b962a3",
   "metadata": {
    "execution": {
     "iopub.execute_input": "2022-08-24T21:09:22.554429Z",
     "iopub.status.busy": "2022-08-24T21:09:22.554088Z",
     "iopub.status.idle": "2022-08-24T21:09:22.761242Z",
     "shell.execute_reply": "2022-08-24T21:09:22.760305Z"
    },
    "papermill": {
     "duration": 0.218589,
     "end_time": "2022-08-24T21:09:22.763750",
     "exception": false,
     "start_time": "2022-08-24T21:09:22.545161",
     "status": "completed"
    },
    "tags": []
   },
   "outputs": [],
   "source": [
    "#merge label and train datasets\n",
    "merged_train_df=pd.merge(train_df_sample_1k,train_labels,on=['customer_ID'],how='inner')\n"
   ]
  },
  {
   "cell_type": "code",
   "execution_count": 12,
   "id": "4702e0b8",
   "metadata": {
    "execution": {
     "iopub.execute_input": "2022-08-24T21:09:22.784512Z",
     "iopub.status.busy": "2022-08-24T21:09:22.783597Z",
     "iopub.status.idle": "2022-08-24T21:09:22.791577Z",
     "shell.execute_reply": "2022-08-24T21:09:22.790304Z"
    },
    "papermill": {
     "duration": 0.021363,
     "end_time": "2022-08-24T21:09:22.793566",
     "exception": false,
     "start_time": "2022-08-24T21:09:22.772203",
     "status": "completed"
    },
    "tags": []
   },
   "outputs": [
    {
     "data": {
      "text/plain": [
       "(10000, 191)"
      ]
     },
     "execution_count": 12,
     "metadata": {},
     "output_type": "execute_result"
    }
   ],
   "source": [
    "merged_train_df.shape"
   ]
  },
  {
   "cell_type": "code",
   "execution_count": 13,
   "id": "e9923076",
   "metadata": {
    "execution": {
     "iopub.execute_input": "2022-08-24T21:09:22.815677Z",
     "iopub.status.busy": "2022-08-24T21:09:22.815258Z",
     "iopub.status.idle": "2022-08-24T21:09:22.839112Z",
     "shell.execute_reply": "2022-08-24T21:09:22.838480Z"
    },
    "papermill": {
     "duration": 0.035949,
     "end_time": "2022-08-24T21:09:22.841042",
     "exception": false,
     "start_time": "2022-08-24T21:09:22.805093",
     "status": "completed"
    },
    "tags": []
   },
   "outputs": [
    {
     "name": "stdout",
     "output_type": "stream",
     "text": [
      "<class 'pandas.core.frame.DataFrame'>\n",
      "Int64Index: 10000 entries, 0 to 9999\n",
      "Columns: 191 entries, customer_ID to target\n",
      "dtypes: float64(185), int64(2), object(4)\n",
      "memory usage: 14.6+ MB\n"
     ]
    }
   ],
   "source": [
    "merged_train_df.info()"
   ]
  },
  {
   "cell_type": "code",
   "execution_count": 14,
   "id": "a5c24018",
   "metadata": {
    "execution": {
     "iopub.execute_input": "2022-08-24T21:09:22.860609Z",
     "iopub.status.busy": "2022-08-24T21:09:22.860016Z",
     "iopub.status.idle": "2022-08-24T21:09:22.878247Z",
     "shell.execute_reply": "2022-08-24T21:09:22.877601Z"
    },
    "papermill": {
     "duration": 0.029607,
     "end_time": "2022-08-24T21:09:22.880297",
     "exception": false,
     "start_time": "2022-08-24T21:09:22.850690",
     "status": "completed"
    },
    "tags": []
   },
   "outputs": [],
   "source": [
    "#preprocessing dataset\n",
    "#converting to objects using encoder\n",
    "merged_train_df.drop(columns=['customer_ID','S_2'],axis=1,inplace=True)\n",
    "test_df_sample_1k.drop(columns=['S_2'],axis=1,inplace=True)"
   ]
  },
  {
   "cell_type": "code",
   "execution_count": 15,
   "id": "fd532798",
   "metadata": {
    "execution": {
     "iopub.execute_input": "2022-08-24T21:09:22.899259Z",
     "iopub.status.busy": "2022-08-24T21:09:22.897851Z",
     "iopub.status.idle": "2022-08-24T21:09:22.911050Z",
     "shell.execute_reply": "2022-08-24T21:09:22.910346Z"
    },
    "papermill": {
     "duration": 0.023986,
     "end_time": "2022-08-24T21:09:22.912598",
     "exception": false,
     "start_time": "2022-08-24T21:09:22.888612",
     "status": "completed"
    },
    "tags": []
   },
   "outputs": [
    {
     "data": {
      "text/plain": [
       "P_2         64\n",
       "D_39         0\n",
       "B_1          0\n",
       "B_2          0\n",
       "R_1          0\n",
       "          ... \n",
       "D_142     8428\n",
       "D_143      153\n",
       "D_144       63\n",
       "D_145      153\n",
       "target       0\n",
       "Length: 189, dtype: int64"
      ]
     },
     "execution_count": 15,
     "metadata": {},
     "output_type": "execute_result"
    }
   ],
   "source": [
    "#dropping columns having more NAN values\n",
    "merged_train_df.isnull().sum()"
   ]
  },
  {
   "cell_type": "code",
   "execution_count": 16,
   "id": "0ffdc6f4",
   "metadata": {
    "execution": {
     "iopub.execute_input": "2022-08-24T21:09:22.931321Z",
     "iopub.status.busy": "2022-08-24T21:09:22.930766Z",
     "iopub.status.idle": "2022-08-24T21:09:22.969167Z",
     "shell.execute_reply": "2022-08-24T21:09:22.968533Z"
    },
    "papermill": {
     "duration": 0.049799,
     "end_time": "2022-08-24T21:09:22.971034",
     "exception": false,
     "start_time": "2022-08-24T21:09:22.921235",
     "status": "completed"
    },
    "tags": []
   },
   "outputs": [],
   "source": [
    "for cols in merged_train_df.columns:\n",
    "    if (merged_train_df[cols].isnull().sum())/((merged_train_df.shape[0])*100) >= 75:\n",
    "        merged_train_df.drop(columns=[cols],axis=1,inplace=True)\n",
    "        \n",
    "        "
   ]
  },
  {
   "cell_type": "code",
   "execution_count": 17,
   "id": "12fc1cab",
   "metadata": {
    "execution": {
     "iopub.execute_input": "2022-08-24T21:09:22.988719Z",
     "iopub.status.busy": "2022-08-24T21:09:22.987939Z",
     "iopub.status.idle": "2022-08-24T21:09:23.028534Z",
     "shell.execute_reply": "2022-08-24T21:09:23.027572Z"
    },
    "papermill": {
     "duration": 0.051347,
     "end_time": "2022-08-24T21:09:23.030562",
     "exception": false,
     "start_time": "2022-08-24T21:09:22.979215",
     "status": "completed"
    },
    "tags": []
   },
   "outputs": [],
   "source": [
    "for cols in test_df_sample_1k.columns:\n",
    "    if (test_df_sample_1k[cols].isnull().sum())/((test_df_sample_1k.shape[0])*100) >= 75:\n",
    "        test_df_sample_1k.drop(columns=[cols],axis=1,inplace=True)"
   ]
  },
  {
   "cell_type": "code",
   "execution_count": 18,
   "id": "5da2cf4e",
   "metadata": {
    "execution": {
     "iopub.execute_input": "2022-08-24T21:09:23.048249Z",
     "iopub.status.busy": "2022-08-24T21:09:23.047929Z",
     "iopub.status.idle": "2022-08-24T21:09:23.054461Z",
     "shell.execute_reply": "2022-08-24T21:09:23.053590Z"
    },
    "papermill": {
     "duration": 0.017405,
     "end_time": "2022-08-24T21:09:23.056127",
     "exception": false,
     "start_time": "2022-08-24T21:09:23.038722",
     "status": "completed"
    },
    "tags": []
   },
   "outputs": [
    {
     "data": {
      "text/plain": [
       "(10000, 189)"
      ]
     },
     "execution_count": 18,
     "metadata": {},
     "output_type": "execute_result"
    }
   ],
   "source": [
    "test_df_sample_1k.shape"
   ]
  },
  {
   "cell_type": "code",
   "execution_count": 19,
   "id": "67bc7adf",
   "metadata": {
    "execution": {
     "iopub.execute_input": "2022-08-24T21:09:23.075540Z",
     "iopub.status.busy": "2022-08-24T21:09:23.074945Z",
     "iopub.status.idle": "2022-08-24T21:09:23.209753Z",
     "shell.execute_reply": "2022-08-24T21:09:23.209099Z"
    },
    "papermill": {
     "duration": 0.147067,
     "end_time": "2022-08-24T21:09:23.211627",
     "exception": false,
     "start_time": "2022-08-24T21:09:23.064560",
     "status": "completed"
    },
    "tags": []
   },
   "outputs": [],
   "source": [
    "#convert all categorical to string\n",
    "train_df = merged_train_df.astype({\"B_30\": 'str', \"B_38\": 'str'})\n",
    "\n",
    "test_df = test_df_sample_1k.astype({\"B_30\": 'str', \"B_38\": 'str'})\n",
    "\n",
    "train_df = train_df.astype({\"D_114\": 'str', \"D_116\": 'str', \"D_117\": 'str', \"D_120\": 'str', \"D_126\": 'str', \"D_68\": 'str'})\n",
    "\n",
    "test_df = test_df.astype({\"D_114\": 'str', \"D_116\": 'str', \"D_117\": 'str', \"D_120\": 'str', \"D_126\": 'str', \"D_68\": 'str'})"
   ]
  },
  {
   "cell_type": "code",
   "execution_count": 20,
   "id": "eb36beff",
   "metadata": {
    "execution": {
     "iopub.execute_input": "2022-08-24T21:09:23.229854Z",
     "iopub.status.busy": "2022-08-24T21:09:23.229300Z",
     "iopub.status.idle": "2022-08-24T21:09:23.245290Z",
     "shell.execute_reply": "2022-08-24T21:09:23.244677Z"
    },
    "papermill": {
     "duration": 0.027342,
     "end_time": "2022-08-24T21:09:23.247356",
     "exception": false,
     "start_time": "2022-08-24T21:09:23.220014",
     "status": "completed"
    },
    "tags": []
   },
   "outputs": [],
   "source": [
    "X=train_df.drop(columns='target')\n",
    "y=train_df['target']"
   ]
  },
  {
   "cell_type": "code",
   "execution_count": 21,
   "id": "215be79f",
   "metadata": {
    "execution": {
     "iopub.execute_input": "2022-08-24T21:09:23.265542Z",
     "iopub.status.busy": "2022-08-24T21:09:23.264789Z",
     "iopub.status.idle": "2022-08-24T21:09:23.274500Z",
     "shell.execute_reply": "2022-08-24T21:09:23.273596Z"
    },
    "papermill": {
     "duration": 0.020661,
     "end_time": "2022-08-24T21:09:23.276370",
     "exception": false,
     "start_time": "2022-08-24T21:09:23.255709",
     "status": "completed"
    },
    "tags": []
   },
   "outputs": [],
   "source": [
    "categorical = list(X.select_dtypes('object').columns)\n",
    "numerical=list(X.select_dtypes('number').columns)"
   ]
  },
  {
   "cell_type": "code",
   "execution_count": 22,
   "id": "491bfbf9",
   "metadata": {
    "execution": {
     "iopub.execute_input": "2022-08-24T21:09:23.294227Z",
     "iopub.status.busy": "2022-08-24T21:09:23.293550Z",
     "iopub.status.idle": "2022-08-24T21:09:23.302105Z",
     "shell.execute_reply": "2022-08-24T21:09:23.301104Z"
    },
    "papermill": {
     "duration": 0.019458,
     "end_time": "2022-08-24T21:09:23.304014",
     "exception": false,
     "start_time": "2022-08-24T21:09:23.284556",
     "status": "completed"
    },
    "tags": []
   },
   "outputs": [
    {
     "name": "stdout",
     "output_type": "stream",
     "text": [
      "Pipeline(steps=[('imputer', SimpleImputer(strategy='most_frequent')),\n",
      "                ('encoder',\n",
      "                 OneHotEncoder(handle_unknown='ignore', sparse=False)),\n",
      "                ('scaler', StandardScaler())])\n"
     ]
    }
   ],
   "source": [
    "categorical_pipeline=Pipeline([\n",
    "    ('imputer',SimpleImputer(strategy='most_frequent',missing_values=np.nan)),\n",
    "    ('encoder',OneHotEncoder(handle_unknown='ignore',sparse=False)),\n",
    "    ('scaler',StandardScaler())\n",
    "])\n",
    "\n",
    "print(categorical_pipeline)"
   ]
  },
  {
   "cell_type": "code",
   "execution_count": 23,
   "id": "4986e6c1",
   "metadata": {
    "execution": {
     "iopub.execute_input": "2022-08-24T21:09:23.322998Z",
     "iopub.status.busy": "2022-08-24T21:09:23.322108Z",
     "iopub.status.idle": "2022-08-24T21:09:23.327912Z",
     "shell.execute_reply": "2022-08-24T21:09:23.327356Z"
    },
    "papermill": {
     "duration": 0.016806,
     "end_time": "2022-08-24T21:09:23.329824",
     "exception": false,
     "start_time": "2022-08-24T21:09:23.313018",
     "status": "completed"
    },
    "tags": []
   },
   "outputs": [
    {
     "name": "stdout",
     "output_type": "stream",
     "text": [
      "Pipeline(steps=[('imputer', SimpleImputer(strategy='most_frequent')),\n",
      "                ('scaler', StandardScaler())])\n"
     ]
    }
   ],
   "source": [
    "numerical_pipeline=Pipeline([\n",
    "    ('imputer',SimpleImputer(strategy='most_frequent',missing_values=np.nan)),\n",
    "    ('scaler',StandardScaler())\n",
    "])\n",
    "print(numerical_pipeline)"
   ]
  },
  {
   "cell_type": "code",
   "execution_count": 24,
   "id": "56e07f4f",
   "metadata": {
    "execution": {
     "iopub.execute_input": "2022-08-24T21:09:23.348598Z",
     "iopub.status.busy": "2022-08-24T21:09:23.348293Z",
     "iopub.status.idle": "2022-08-24T21:09:23.364353Z",
     "shell.execute_reply": "2022-08-24T21:09:23.362891Z"
    },
    "papermill": {
     "duration": 0.026863,
     "end_time": "2022-08-24T21:09:23.365963",
     "exception": false,
     "start_time": "2022-08-24T21:09:23.339100",
     "status": "completed"
    },
    "tags": []
   },
   "outputs": [
    {
     "name": "stdout",
     "output_type": "stream",
     "text": [
      "ColumnTransformer(transformers=[('cat',\n",
      "                                 Pipeline(steps=[('imputer',\n",
      "                                                  SimpleImputer(strategy='most_frequent')),\n",
      "                                                 ('encoder',\n",
      "                                                  OneHotEncoder(handle_unknown='ignore',\n",
      "                                                                sparse=False)),\n",
      "                                                 ('scaler', StandardScaler())]),\n",
      "                                 ['D_63', 'D_64', 'D_68', 'B_30', 'B_38',\n",
      "                                  'D_114', 'D_116', 'D_117', 'D_120',\n",
      "                                  'D_126']),\n",
      "                                ('num',\n",
      "                                 Pipeline(steps=[('imputer',\n",
      "                                                  SimpleImputer(strategy='most_frequent')),\n",
      "                                                 ('scaler', StandardScaler())]),\n",
      "                                 ['P_2', 'D_39', 'B_1', 'B_2', 'R_1', 'S_3',\n",
      "                                  'D_41', 'B_3', 'D_42', 'D_43', 'D_44', 'B_4',\n",
      "                                  'D_45', 'B_5', 'R_2', 'D_46', 'D_47', 'D_48',\n",
      "                                  'D_49', 'B_6', 'B_7', 'B_8', 'D_50', 'D_51',\n",
      "                                  'B_9', 'R_3', 'D_52', 'P_3', 'B_10', 'D_53', ...])])\n"
     ]
    }
   ],
   "source": [
    "pre_process=ColumnTransformer([\n",
    "    ('cat',categorical_pipeline,categorical),\n",
    "    ('num',numerical_pipeline,numerical)\n",
    "])\n",
    "print(pre_process)"
   ]
  },
  {
   "cell_type": "code",
   "execution_count": 25,
   "id": "b86df109",
   "metadata": {
    "execution": {
     "iopub.execute_input": "2022-08-24T21:09:23.383426Z",
     "iopub.status.busy": "2022-08-24T21:09:23.382960Z",
     "iopub.status.idle": "2022-08-24T21:09:23.405228Z",
     "shell.execute_reply": "2022-08-24T21:09:23.404597Z"
    },
    "papermill": {
     "duration": 0.03295,
     "end_time": "2022-08-24T21:09:23.407094",
     "exception": false,
     "start_time": "2022-08-24T21:09:23.374144",
     "status": "completed"
    },
    "tags": []
   },
   "outputs": [],
   "source": [
    "#split train and test data\n",
    "X_train,X_test,y_train,y_test=train_test_split(X,y,test_size=0.3,stratify=y,random_state=42)\n"
   ]
  },
  {
   "cell_type": "code",
   "execution_count": 26,
   "id": "90346006",
   "metadata": {
    "execution": {
     "iopub.execute_input": "2022-08-24T21:09:23.425276Z",
     "iopub.status.busy": "2022-08-24T21:09:23.424243Z",
     "iopub.status.idle": "2022-08-24T21:09:23.430609Z",
     "shell.execute_reply": "2022-08-24T21:09:23.429437Z"
    },
    "papermill": {
     "duration": 0.016905,
     "end_time": "2022-08-24T21:09:23.432272",
     "exception": false,
     "start_time": "2022-08-24T21:09:23.415367",
     "status": "completed"
    },
    "tags": []
   },
   "outputs": [
    {
     "data": {
      "text/plain": [
       "(3000,)"
      ]
     },
     "execution_count": 26,
     "metadata": {},
     "output_type": "execute_result"
    }
   ],
   "source": [
    "y_test.shape"
   ]
  },
  {
   "cell_type": "code",
   "execution_count": 27,
   "id": "439fd05a",
   "metadata": {
    "execution": {
     "iopub.execute_input": "2022-08-24T21:09:23.451302Z",
     "iopub.status.busy": "2022-08-24T21:09:23.450572Z",
     "iopub.status.idle": "2022-08-24T21:09:24.186915Z",
     "shell.execute_reply": "2022-08-24T21:09:24.185952Z"
    },
    "papermill": {
     "duration": 0.748067,
     "end_time": "2022-08-24T21:09:24.189147",
     "exception": false,
     "start_time": "2022-08-24T21:09:23.441080",
     "status": "completed"
    },
    "tags": []
   },
   "outputs": [
    {
     "data": {
      "text/html": [
       "<style type='text/css'>\n",
       ".datatable table.frame { margin-bottom: 0; }\n",
       ".datatable table.frame thead { border-bottom: none; }\n",
       ".datatable table.frame tr.coltypes td {  color: #FFFFFF;  line-height: 6px;  padding: 0 0.5em;}\n",
       ".datatable .bool    { background: #DDDD99; }\n",
       ".datatable .object  { background: #565656; }\n",
       ".datatable .int     { background: #5D9E5D; }\n",
       ".datatable .float   { background: #4040CC; }\n",
       ".datatable .str     { background: #CC4040; }\n",
       ".datatable .time    { background: #40CC40; }\n",
       ".datatable .row_index {  background: var(--jp-border-color3);  border-right: 1px solid var(--jp-border-color0);  color: var(--jp-ui-font-color3);  font-size: 9px;}\n",
       ".datatable .frame tbody td { text-align: left; }\n",
       ".datatable .frame tr.coltypes .row_index {  background: var(--jp-border-color0);}\n",
       ".datatable th:nth-child(2) { padding-left: 12px; }\n",
       ".datatable .hellipsis {  color: var(--jp-cell-editor-border-color);}\n",
       ".datatable .vellipsis {  background: var(--jp-layout-color0);  color: var(--jp-cell-editor-border-color);}\n",
       ".datatable .na {  color: var(--jp-cell-editor-border-color);  font-size: 80%;}\n",
       ".datatable .sp {  opacity: 0.25;}\n",
       ".datatable .footer { font-size: 9px; }\n",
       ".datatable .frame_dimensions {  background: var(--jp-border-color3);  border-top: 1px solid var(--jp-border-color0);  color: var(--jp-ui-font-color3);  display: inline-block;  opacity: 0.6;  padding: 1px 10px 1px 5px;}\n",
       "</style>\n"
      ],
      "text/plain": [
       "<IPython.core.display.HTML object>"
      ]
     },
     "metadata": {},
     "output_type": "display_data"
    }
   ],
   "source": [
    "from sklearn.ensemble import RandomForestClassifier\n",
    "import lightgbm as lgb\n",
    "\n",
    "from sklearn.metrics import accuracy_score,r2_score"
   ]
  },
  {
   "cell_type": "code",
   "execution_count": 28,
   "id": "50ef96bf",
   "metadata": {
    "execution": {
     "iopub.execute_input": "2022-08-24T21:09:24.208994Z",
     "iopub.status.busy": "2022-08-24T21:09:24.208695Z",
     "iopub.status.idle": "2022-08-24T21:09:24.212987Z",
     "shell.execute_reply": "2022-08-24T21:09:24.212360Z"
    },
    "papermill": {
     "duration": 0.016599,
     "end_time": "2022-08-24T21:09:24.214965",
     "exception": false,
     "start_time": "2022-08-24T21:09:24.198366",
     "status": "completed"
    },
    "tags": []
   },
   "outputs": [],
   "source": [
    "lgb_model = lgb.LGBMClassifier(boosting_type='goss', max_depth=5, random_state=0)\n",
    "rf_model=RandomForestClassifier(n_estimators = 10, random_state = 42, n_jobs = -1)"
   ]
  },
  {
   "cell_type": "code",
   "execution_count": 29,
   "id": "f5c6a2e2",
   "metadata": {
    "execution": {
     "iopub.execute_input": "2022-08-24T21:09:24.233848Z",
     "iopub.status.busy": "2022-08-24T21:09:24.233322Z",
     "iopub.status.idle": "2022-08-24T21:09:24.236990Z",
     "shell.execute_reply": "2022-08-24T21:09:24.236469Z"
    },
    "papermill": {
     "duration": 0.014605,
     "end_time": "2022-08-24T21:09:24.238414",
     "exception": false,
     "start_time": "2022-08-24T21:09:24.223809",
     "status": "completed"
    },
    "tags": []
   },
   "outputs": [],
   "source": [
    "steps = [\n",
    "        ('preprocess', pre_process),\n",
    "        ('model_estimator', RandomForestClassifier(random_state = 42))\n",
    "    ]\n",
    "pipe = Pipeline(steps, verbose=True)"
   ]
  },
  {
   "cell_type": "code",
   "execution_count": 30,
   "id": "8e407b75",
   "metadata": {
    "execution": {
     "iopub.execute_input": "2022-08-24T21:09:24.256835Z",
     "iopub.status.busy": "2022-08-24T21:09:24.256509Z",
     "iopub.status.idle": "2022-08-24T21:09:25.969669Z",
     "shell.execute_reply": "2022-08-24T21:09:25.967922Z"
    },
    "papermill": {
     "duration": 1.725256,
     "end_time": "2022-08-24T21:09:25.972067",
     "exception": false,
     "start_time": "2022-08-24T21:09:24.246811",
     "status": "completed"
    },
    "tags": []
   },
   "outputs": [
    {
     "name": "stdout",
     "output_type": "stream",
     "text": [
      "[Pipeline] ........ (step 1 of 2) Processing preprocess, total=   0.2s\n",
      "[Pipeline] ... (step 2 of 2) Processing model_estimator, total=   1.5s\n"
     ]
    }
   ],
   "source": [
    "pipe.set_params(model_estimator=lgb.LGBMClassifier())\n",
    "model=pipe.fit(X_train,y_train)"
   ]
  },
  {
   "cell_type": "code",
   "execution_count": 31,
   "id": "1b484fd3",
   "metadata": {
    "execution": {
     "iopub.execute_input": "2022-08-24T21:09:25.991708Z",
     "iopub.status.busy": "2022-08-24T21:09:25.991346Z",
     "iopub.status.idle": "2022-08-24T21:09:26.035878Z",
     "shell.execute_reply": "2022-08-24T21:09:26.035059Z"
    },
    "papermill": {
     "duration": 0.056298,
     "end_time": "2022-08-24T21:09:26.038003",
     "exception": false,
     "start_time": "2022-08-24T21:09:25.981705",
     "status": "completed"
    },
    "tags": []
   },
   "outputs": [],
   "source": [
    "y_preds=pd.DataFrame(pipe.predict(X_test), columns=['prediction'])"
   ]
  },
  {
   "cell_type": "code",
   "execution_count": 32,
   "id": "b409a5a4",
   "metadata": {
    "execution": {
     "iopub.execute_input": "2022-08-24T21:09:26.058873Z",
     "iopub.status.busy": "2022-08-24T21:09:26.058571Z",
     "iopub.status.idle": "2022-08-24T21:09:26.137949Z",
     "shell.execute_reply": "2022-08-24T21:09:26.137022Z"
    },
    "papermill": {
     "duration": 0.090989,
     "end_time": "2022-08-24T21:09:26.139737",
     "exception": false,
     "start_time": "2022-08-24T21:09:26.048748",
     "status": "completed"
    },
    "tags": []
   },
   "outputs": [
    {
     "data": {
      "text/plain": [
       "1.0"
      ]
     },
     "execution_count": 32,
     "metadata": {},
     "output_type": "execute_result"
    }
   ],
   "source": [
    "pipe.score(X_train,y_train)"
   ]
  },
  {
   "cell_type": "code",
   "execution_count": 33,
   "id": "3de223c8",
   "metadata": {
    "execution": {
     "iopub.execute_input": "2022-08-24T21:09:26.160319Z",
     "iopub.status.busy": "2022-08-24T21:09:26.159376Z",
     "iopub.status.idle": "2022-08-24T21:09:26.166256Z",
     "shell.execute_reply": "2022-08-24T21:09:26.164661Z"
    },
    "papermill": {
     "duration": 0.018462,
     "end_time": "2022-08-24T21:09:26.168119",
     "exception": false,
     "start_time": "2022-08-24T21:09:26.149657",
     "status": "completed"
    },
    "tags": []
   },
   "outputs": [
    {
     "data": {
      "text/plain": [
       "0.986"
      ]
     },
     "execution_count": 33,
     "metadata": {},
     "output_type": "execute_result"
    }
   ],
   "source": [
    "accuracy_score(y_preds,y_test)"
   ]
  },
  {
   "cell_type": "code",
   "execution_count": 34,
   "id": "e3a042a8",
   "metadata": {
    "execution": {
     "iopub.execute_input": "2022-08-24T21:09:26.188129Z",
     "iopub.status.busy": "2022-08-24T21:09:26.187656Z",
     "iopub.status.idle": "2022-08-24T21:09:26.319205Z",
     "shell.execute_reply": "2022-08-24T21:09:26.318155Z"
    },
    "papermill": {
     "duration": 0.144524,
     "end_time": "2022-08-24T21:09:26.321698",
     "exception": false,
     "start_time": "2022-08-24T21:09:26.177174",
     "status": "completed"
    },
    "tags": []
   },
   "outputs": [],
   "source": [
    "y_test_pred = pipe.predict(test_df_sample_1k)"
   ]
  },
  {
   "cell_type": "code",
   "execution_count": 35,
   "id": "17aed677",
   "metadata": {
    "execution": {
     "iopub.execute_input": "2022-08-24T21:09:26.343665Z",
     "iopub.status.busy": "2022-08-24T21:09:26.343330Z",
     "iopub.status.idle": "2022-08-24T21:09:26.346989Z",
     "shell.execute_reply": "2022-08-24T21:09:26.346416Z"
    },
    "papermill": {
     "duration": 0.015407,
     "end_time": "2022-08-24T21:09:26.348537",
     "exception": false,
     "start_time": "2022-08-24T21:09:26.333130",
     "status": "completed"
    },
    "tags": []
   },
   "outputs": [],
   "source": [
    "# test_all=pd.read_csv('/kaggle/input/amex-default-prediction/test_data.csv')"
   ]
  },
  {
   "cell_type": "code",
   "execution_count": 36,
   "id": "9273db6f",
   "metadata": {
    "execution": {
     "iopub.execute_input": "2022-08-24T21:09:26.367785Z",
     "iopub.status.busy": "2022-08-24T21:09:26.367503Z",
     "iopub.status.idle": "2022-08-24T21:09:26.492142Z",
     "shell.execute_reply": "2022-08-24T21:09:26.491464Z"
    },
    "papermill": {
     "duration": 0.136991,
     "end_time": "2022-08-24T21:09:26.494609",
     "exception": false,
     "start_time": "2022-08-24T21:09:26.357618",
     "status": "completed"
    },
    "tags": []
   },
   "outputs": [],
   "source": [
    "output_1=pipe.predict(test_df_sample_1k)"
   ]
  },
  {
   "cell_type": "code",
   "execution_count": 37,
   "id": "dd310a4f",
   "metadata": {
    "execution": {
     "iopub.execute_input": "2022-08-24T21:09:26.515179Z",
     "iopub.status.busy": "2022-08-24T21:09:26.514876Z",
     "iopub.status.idle": "2022-08-24T21:09:26.530976Z",
     "shell.execute_reply": "2022-08-24T21:09:26.530319Z"
    },
    "papermill": {
     "duration": 0.027713,
     "end_time": "2022-08-24T21:09:26.532854",
     "exception": false,
     "start_time": "2022-08-24T21:09:26.505141",
     "status": "completed"
    },
    "tags": []
   },
   "outputs": [],
   "source": [
    "output = pd.DataFrame({'customer_ID': test_df_sample_1k.index,'prediction': output_1})\n",
    "output.to_csv('submission.csv', index=False, header=True)"
   ]
  },
  {
   "cell_type": "code",
   "execution_count": null,
   "id": "9ffb7753",
   "metadata": {
    "papermill": {
     "duration": 0.008361,
     "end_time": "2022-08-24T21:09:26.550334",
     "exception": false,
     "start_time": "2022-08-24T21:09:26.541973",
     "status": "completed"
    },
    "tags": []
   },
   "outputs": [],
   "source": []
  }
 ],
 "metadata": {
  "kernelspec": {
   "display_name": "Python 3",
   "language": "python",
   "name": "python3"
  },
  "language_info": {
   "codemirror_mode": {
    "name": "ipython",
    "version": 3
   },
   "file_extension": ".py",
   "mimetype": "text/x-python",
   "name": "python",
   "nbconvert_exporter": "python",
   "pygments_lexer": "ipython3",
   "version": "3.7.12"
  },
  "papermill": {
   "default_parameters": {},
   "duration": 15.517902,
   "end_time": "2022-08-24T21:09:27.278815",
   "environment_variables": {},
   "exception": null,
   "input_path": "__notebook__.ipynb",
   "output_path": "__notebook__.ipynb",
   "parameters": {},
   "start_time": "2022-08-24T21:09:11.760913",
   "version": "2.3.4"
  }
 },
 "nbformat": 4,
 "nbformat_minor": 5
}
